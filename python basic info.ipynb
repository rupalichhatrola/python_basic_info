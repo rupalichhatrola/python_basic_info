{
 "cells": [
  {
   "cell_type": "code",
   "execution_count": 1,
   "id": "8820fe31-7e11-44a2-8d86-0aa94b04783c",
   "metadata": {},
   "outputs": [
    {
     "data": {
      "text/plain": [
       "20"
      ]
     },
     "execution_count": 1,
     "metadata": {},
     "output_type": "execute_result"
    }
   ],
   "source": [
    "#BASIC INFO\n",
    "a=10 #to declare a variable\n",
    "b=10\n",
    "a+b"
   ]
  },
  {
   "cell_type": "code",
   "execution_count": 2,
   "id": "8ea23d2d-7c6d-492b-a2a8-cb6b828026ea",
   "metadata": {},
   "outputs": [
    {
     "data": {
      "text/plain": [
       "10"
      ]
     },
     "execution_count": 2,
     "metadata": {},
     "output_type": "execute_result"
    }
   ],
   "source": [
    "a #find a value of a"
   ]
  },
  {
   "cell_type": "code",
   "execution_count": 3,
   "id": "1a8365b8-9c17-4dfd-b4f0-3682918598a2",
   "metadata": {},
   "outputs": [
    {
     "data": {
      "text/plain": [
       "10"
      ]
     },
     "execution_count": 3,
     "metadata": {},
     "output_type": "execute_result"
    }
   ],
   "source": [
    "b"
   ]
  },
  {
   "cell_type": "code",
   "execution_count": 4,
   "id": "55548bd3-6478-4c51-9151-0d5d31acafff",
   "metadata": {},
   "outputs": [
    {
     "data": {
      "text/plain": [
       "'vachaSoni'"
      ]
     },
     "execution_count": 4,
     "metadata": {},
     "output_type": "execute_result"
    }
   ],
   "source": [
    "a='vacha'#declare a string\n",
    "b=\"Soni\"\n",
    "a+b"
   ]
  },
  {
   "cell_type": "code",
   "execution_count": 5,
   "id": "5908b101-5955-489f-ae47-39aa6372acd8",
   "metadata": {},
   "outputs": [
    {
     "data": {
      "text/plain": [
       "str"
      ]
     },
     "execution_count": 5,
     "metadata": {},
     "output_type": "execute_result"
    }
   ],
   "source": [
    "type(a) #to find a datatype\n"
   ]
  },
  {
   "cell_type": "code",
   "execution_count": 6,
   "id": "778999a2-1c19-4d53-a439-e6988cb4da1c",
   "metadata": {},
   "outputs": [
    {
     "data": {
      "text/plain": [
       "complex"
      ]
     },
     "execution_count": 6,
     "metadata": {},
     "output_type": "execute_result"
    }
   ],
   "source": [
    "c=1.5+7j\n",
    "type(c)"
   ]
  },
  {
   "cell_type": "code",
   "execution_count": 7,
   "id": "73fcd20f-b205-403f-99f2-b721820759d4",
   "metadata": {},
   "outputs": [
    {
     "data": {
      "text/plain": [
       "5"
      ]
     },
     "execution_count": 7,
     "metadata": {},
     "output_type": "execute_result"
    }
   ],
   "source": [
    "Name = \"Vacha\"\n",
    "len(Name)  #to find a lenth of a given string"
   ]
  },
  {
   "cell_type": "code",
   "execution_count": 8,
   "id": "24c09357-0cf7-41fc-807d-38308c9f724b",
   "metadata": {},
   "outputs": [
    {
     "data": {
      "text/plain": [
       "'V'"
      ]
     },
     "execution_count": 8,
     "metadata": {},
     "output_type": "execute_result"
    }
   ],
   "source": [
    "Name = \"Vacha\"\n",
    "Name[0] #to find a position of a given string\n"
   ]
  },
  {
   "cell_type": "code",
   "execution_count": 9,
   "id": "7473f678-5a1c-4ebe-8c6e-8f4dfaed7c74",
   "metadata": {},
   "outputs": [
    {
     "data": {
      "text/plain": [
       "'a'"
      ]
     },
     "execution_count": 9,
     "metadata": {},
     "output_type": "execute_result"
    }
   ],
   "source": [
    "Name[-1] \n"
   ]
  },
  {
   "cell_type": "code",
   "execution_count": 10,
   "id": "0f3d5f36-391c-402b-94cc-77da9ec4038e",
   "metadata": {},
   "outputs": [
    {
     "data": {
      "text/plain": [
       "'c'"
      ]
     },
     "execution_count": 10,
     "metadata": {},
     "output_type": "execute_result"
    }
   ],
   "source": [
    "Name[2]\n"
   ]
  },
  {
   "cell_type": "code",
   "execution_count": 11,
   "id": "82fd1556-92dd-459f-bdc0-e74f391c4931",
   "metadata": {},
   "outputs": [
    {
     "data": {
      "text/plain": [
       "'is a jupyter not'"
      ]
     },
     "execution_count": 11,
     "metadata": {},
     "output_type": "execute_result"
    }
   ],
   "source": [
    "z=\"This is a jupyter note\"\n",
    "z[5:-1]"
   ]
  },
  {
   "cell_type": "code",
   "execution_count": 12,
   "id": "af929e50-c4b6-4cb4-befc-02af1ec311c1",
   "metadata": {},
   "outputs": [
    {
     "data": {
      "text/plain": [
       "'This is a jupyter not'"
      ]
     },
     "execution_count": 12,
     "metadata": {},
     "output_type": "execute_result"
    }
   ],
   "source": [
    "z[0:-1]"
   ]
  },
  {
   "cell_type": "code",
   "execution_count": 13,
   "id": "59e02379-aef9-477f-a310-ad9f201b2540",
   "metadata": {},
   "outputs": [
    {
     "data": {
      "text/plain": [
       "'jupyter not'"
      ]
     },
     "execution_count": 13,
     "metadata": {},
     "output_type": "execute_result"
    }
   ],
   "source": [
    "z[10:-1]\n"
   ]
  },
  {
   "cell_type": "code",
   "execution_count": 14,
   "id": "13634009-3fdb-4fcc-8b16-f21961cd4c6a",
   "metadata": {},
   "outputs": [
    {
     "data": {
      "text/plain": [
       "'e'"
      ]
     },
     "execution_count": 14,
     "metadata": {},
     "output_type": "execute_result"
    }
   ],
   "source": [
    "z[-1]"
   ]
  },
  {
   "cell_type": "code",
   "execution_count": 15,
   "id": "7e12fb43-2587-4da1-ab99-863d0788c145",
   "metadata": {},
   "outputs": [
    {
     "data": {
      "text/plain": [
       "'Ti saj'"
      ]
     },
     "execution_count": 15,
     "metadata": {},
     "output_type": "execute_result"
    }
   ],
   "source": [
    "z[0:11:2]\n"
   ]
  },
  {
   "cell_type": "code",
   "execution_count": 16,
   "id": "1900e8ca-46d9-451d-abeb-eac96ddd94bb",
   "metadata": {},
   "outputs": [
    {
     "data": {
      "text/plain": [
       "'Ti sajptrnt'"
      ]
     },
     "execution_count": 16,
     "metadata": {},
     "output_type": "execute_result"
    }
   ],
   "source": [
    "z[0:-1:2]\n"
   ]
  },
  {
   "cell_type": "code",
   "execution_count": 17,
   "id": "1ec99d4a-719a-4cc9-8ae4-886f21bcf909",
   "metadata": {},
   "outputs": [
    {
     "data": {
      "text/plain": [
       "True"
      ]
     },
     "execution_count": 17,
     "metadata": {},
     "output_type": "execute_result"
    }
   ],
   "source": [
    "1<2 #conditional\n"
   ]
  },
  {
   "cell_type": "code",
   "execution_count": 18,
   "id": "65305a01-9977-4404-ba9e-773af25be0c6",
   "metadata": {},
   "outputs": [
    {
     "data": {
      "text/plain": [
       "False"
      ]
     },
     "execution_count": 18,
     "metadata": {},
     "output_type": "execute_result"
    }
   ],
   "source": [
    "1>2"
   ]
  },
  {
   "cell_type": "code",
   "execution_count": 19,
   "id": "6cd0059f-c03f-4dac-ae7e-6cac736cf364",
   "metadata": {},
   "outputs": [
    {
     "name": "stdout",
     "output_type": "stream",
     "text": [
      "Hello! This is a jupyter Note\n"
     ]
    }
   ],
   "source": [
    "print(\"Hello! This is a jupyter Note\")  #to print any sentence\n"
   ]
  },
  {
   "cell_type": "code",
   "execution_count": 20,
   "id": "0fe2980a-398f-4427-bd49-d06a0d0ee199",
   "metadata": {},
   "outputs": [
    {
     "name": "stdout",
     "output_type": "stream",
     "text": [
      "Hello! This is a jupyter Note\n"
     ]
    }
   ],
   "source": [
    "a=\"This is a jupyter Note\"\n",
    "print(\"Hello!\",a)\n"
   ]
  },
  {
   "cell_type": "code",
   "execution_count": 21,
   "id": "56558f90-9cb1-438a-a603-eb58e39dea8b",
   "metadata": {},
   "outputs": [
    {
     "name": "stdin",
     "output_type": "stream",
     "text": [
      " 4\n",
      " 5\n"
     ]
    },
    {
     "data": {
      "text/plain": [
       "int"
      ]
     },
     "execution_count": 21,
     "metadata": {},
     "output_type": "execute_result"
    }
   ],
   "source": [
    "a=int(input())  #user defined input\n",
    "b=int(input())\n",
    "type(a)"
   ]
  },
  {
   "cell_type": "code",
   "execution_count": 22,
   "id": "0be56e65-b9c4-45d9-accc-7bf8600d403f",
   "metadata": {},
   "outputs": [
    {
     "name": "stdin",
     "output_type": "stream",
     "text": [
      "Enter Name hjdfh\n"
     ]
    },
    {
     "name": "stdout",
     "output_type": "stream",
     "text": [
      "Name: hjdfh\n"
     ]
    }
   ],
   "source": [
    "a = input(\"Enter Name\") #for string\n",
    "print(\"Name:\",a)\n"
   ]
  },
  {
   "cell_type": "code",
   "execution_count": 23,
   "id": "aa79e1a3-a4d8-48c7-a43e-4e6ef6fccdaa",
   "metadata": {},
   "outputs": [
    {
     "name": "stdout",
     "output_type": "stream",
     "text": [
      "false\n"
     ]
    }
   ],
   "source": [
    "a='vacha'\n",
    "if a=='soni':\n",
    "    print(\"true\")\n",
    "else:\n",
    "    print(\"false\")\n"
   ]
  },
  {
   "cell_type": "code",
   "execution_count": null,
   "id": "5f662f04-a4a5-4e25-8b26-f83a970dbe7c",
   "metadata": {},
   "outputs": [],
   "source": []
  }
 ],
 "metadata": {
  "kernelspec": {
   "display_name": "Python 3 (ipykernel)",
   "language": "python",
   "name": "python3"
  },
  "language_info": {
   "codemirror_mode": {
    "name": "ipython",
    "version": 3
   },
   "file_extension": ".py",
   "mimetype": "text/x-python",
   "name": "python",
   "nbconvert_exporter": "python",
   "pygments_lexer": "ipython3",
   "version": "3.11.7"
  }
 },
 "nbformat": 4,
 "nbformat_minor": 5
}
