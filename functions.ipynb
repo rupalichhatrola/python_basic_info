{
 "cells": [
  {
   "cell_type": "markdown",
   "id": "448d8608-8de4-499d-99db-5940ed62f25a",
   "metadata": {},
   "source": [
    "07 Functions\n",
    "\n",
    "Definition:\n",
    "\n",
    "Function are nothing but a block of code which performs a specific task and can be called again and again as per requirement in the code.\n",
    "A generic way to write a simple function is shown below-\n",
    "\n",
    "def function_name():\n",
    "    # function body starts\n",
    "    pass\n",
    "    # function body ends\n",
    "    \n",
    "# calling function in the code \n",
    "-\n",
    "\n",
    "function_name()\n",
    "\n",
    "DRY: It stands for Do not Repeat Yourself. It means that a good generally should not contain repeated blocks of code. So if you observe in your code repeatition of certain lines of code then you can also make it a function and call as per your requirement. Let's see an example below-\n",
    "\n",
    "7.1 A simple function definition\n",
    "\n",
    "EXAMPLE:"
   ]
  },
  {
   "cell_type": "code",
   "execution_count": 1,
   "id": "f390d8e2-910e-4797-bcde-44f5b04d1cde",
   "metadata": {},
   "outputs": [],
   "source": [
    "def function_name():\n",
    "    # function body starts\n",
    "    pass\n",
    "    # function body ends\n",
    "\n",
    "# calling function in the code -\n",
    "function_name() "
   ]
  },
  {
   "cell_type": "code",
   "execution_count": 2,
   "id": "c3d7e153-83a5-4948-a859-d4163656b730",
   "metadata": {},
   "outputs": [
    {
     "name": "stdout",
     "output_type": "stream",
     "text": [
      "Hi there from bit\n"
     ]
    }
   ],
   "source": [
    "def greetings():\n",
    "    print(\"Hi there from bit\")\n",
    "\n",
    "# calling greeting function in the code -\n",
    "greetings() "
   ]
  },
  {
   "cell_type": "markdown",
   "id": "7f086a96-cd15-4269-ad9f-b6f589fdf18d",
   "metadata": {},
   "source": [
    "We can also pass some values to the function. These values are known as arguments.A function can have following kind of arguments -\n",
    "\n",
    "Key word arguments: Here we define the name of arguments\n",
    "\n",
    "EXAMPLE: Observe the below code from Expressions, Operators, and Precedence Chapter-\n"
   ]
  },
  {
   "cell_type": "code",
   "execution_count": 3,
   "id": "f486ee9b-d0fa-45a7-bfc2-7c8a661b1d12",
   "metadata": {},
   "outputs": [
    {
     "name": "stdout",
     "output_type": "stream",
     "text": [
      "You have BIKE: True\n",
      "You have CAR: True\n",
      "You can travel 100 KMs: True\n",
      "\n",
      "You have BIKE:True \n",
      "You have CAR: False\n",
      "You can travel 100 KMs: True\n",
      "\n",
      "You have BIKE: False\n",
      "You have CAR: True\n",
      "You can travel 100 KMs: True\n",
      "\n",
      "You have BIKE: False\n",
      "You have CAR: False\n",
      "You can travel 100 KMs: False\n",
      "\n"
     ]
    }
   ],
   "source": [
    "# Block One\n",
    "BIKE = True\n",
    "CAR = True\n",
    "\n",
    "TRAVEL_100_KM = BIKE or CAR\n",
    "\n",
    "print(f\"You have BIKE: {BIKE}\")\n",
    "print(f\"You have CAR: {CAR}\")\n",
    "print(f\"You can travel 100 KMs: {TRAVEL_100_KM}\\n\")\n",
    "\n",
    "\n",
    "# Block Two\n",
    "BIKE = True\n",
    "CAR = False\n",
    "TRAVEL_100_KM = BIKE or CAR\n",
    "\n",
    "print(f\"You have BIKE:{BIKE} \")\n",
    "print(f\"You have CAR: {CAR}\")\n",
    "print(f\"You can travel 100 KMs: {TRAVEL_100_KM}\\n\")\n",
    "\n",
    "# Block Three\n",
    "BIKE = False\n",
    "CAR = True\n",
    "TRAVEL_100_KM = BIKE or CAR\n",
    "\n",
    "print(f\"You have BIKE: {BIKE}\")\n",
    "print(f\"You have CAR: {CAR}\")\n",
    "print(f\"You can travel 100 KMs: {TRAVEL_100_KM}\\n\")\n",
    "\n",
    "# Block Four\n",
    "BIKE = False\n",
    "CAR = False\n",
    "TRAVEL_100_KM = BIKE or CAR\n",
    "\n",
    "print(f\"You have BIKE: {BIKE}\")\n",
    "print(f\"You have CAR: {CAR}\")\n",
    "print(f\"You can travel 100 KMs: {TRAVEL_100_KM}\\n\")"
   ]
  },
  {
   "cell_type": "markdown",
   "id": "cebe9fae-261a-484d-a947-39106f076462",
   "metadata": {},
   "source": [
    "EXAMPLE: So above codes are repetetive. Now lets observe the below code which will give the same results as shown \n",
    "above but in avery less line of code. -"
   ]
  },
  {
   "cell_type": "code",
   "execution_count": 4,
   "id": "9b2890e0-1a53-42a9-b224-e956b8f2cb21",
   "metadata": {},
   "outputs": [
    {
     "name": "stdout",
     "output_type": "stream",
     "text": [
      "You have BIKE: False\n",
      "You have CAR: False\n",
      "You can travel 100 KMs: False\n",
      "\n",
      "You have BIKE: False\n",
      "You have CAR: True\n",
      "You can travel 100 KMs: True\n",
      "\n",
      "You have BIKE: True\n",
      "You have CAR: False\n",
      "You can travel 100 KMs: True\n",
      "\n",
      "You have BIKE: True\n",
      "You have CAR: True\n",
      "You can travel 100 KMs: True\n",
      "\n"
     ]
    }
   ],
   "source": [
    "def travel_or_not(BIKE, CAR):\n",
    "    TRAVEL_100_KM = BIKE or CAR\n",
    "\n",
    "    print(f\"You have BIKE: {BIKE}\")\n",
    "    print(f\"You have CAR: {CAR}\")\n",
    "    print(f\"You can travel 100 KMs: {TRAVEL_100_KM}\\n\")\n",
    "\n",
    "travel_or_not(False, False)\n",
    "\n",
    "travel_or_not(False, True)\n",
    "\n",
    "travel_or_not(True, False)\n",
    "\n",
    "travel_or_not(True, True)\n"
   ]
  },
  {
   "cell_type": "markdown",
   "id": "aa955a0e-7054-49bb-be04-2a5d094417e6",
   "metadata": {},
   "source": [
    "EXAMPLE: Lets make it more concise using a for loop and remove the repetition-"
   ]
  },
  {
   "cell_type": "code",
   "execution_count": 5,
   "id": "d4b5d1b3-fc64-40f9-ae8f-053b54f8fb15",
   "metadata": {},
   "outputs": [
    {
     "name": "stdout",
     "output_type": "stream",
     "text": [
      "You have BIKE: False\n",
      "You have CAR: False\n",
      "You can travel 100 KMs: False\n",
      "\n",
      "You have BIKE: False\n",
      "You have CAR: True\n",
      "You can travel 100 KMs: True\n",
      "\n",
      "You have BIKE: True\n",
      "You have CAR: False\n",
      "You can travel 100 KMs: True\n",
      "\n",
      "You have BIKE: True\n",
      "You have CAR: True\n",
      "You can travel 100 KMs: True\n",
      "\n"
     ]
    }
   ],
   "source": [
    "def travel_or_not(BIKE, CAR):\n",
    "    TRAVEL_100_KM = BIKE or CAR\n",
    "\n",
    "    print(f\"You have BIKE: {BIKE}\")\n",
    "    print(f\"You have CAR: {CAR}\")\n",
    "    print(f\"You can travel 100 KMs: {TRAVEL_100_KM}\\n\")\n",
    "    \n",
    "BIKE = [False, False, True, True]\n",
    "CAR = [False, True,False, True]\n",
    "\n",
    "for bike, car in zip(BIKE, CAR):\n",
    "    travel_or_not(bike, car)"
   ]
  },
  {
   "cell_type": "code",
   "execution_count": 6,
   "id": "f6f19719-cafd-4b29-a1cb-5f53490d61f5",
   "metadata": {},
   "outputs": [
    {
     "name": "stdout",
     "output_type": "stream",
     "text": [
      "You have BIKE: False\n",
      "You have CAR: False\n",
      "You can travel 100 KMs: False\n",
      "\n",
      "You have BIKE: False\n",
      "You have CAR: True\n",
      "You can travel 100 KMs: False\n",
      "\n",
      "You have BIKE: True\n",
      "You have CAR: False\n",
      "You can travel 100 KMs: False\n",
      "\n",
      "You have BIKE: True\n",
      "You have CAR: True\n",
      "You can travel 100 KMs: True\n",
      "\n"
     ]
    }
   ],
   "source": [
    "def travel_or_not(BIKE, CAR):\n",
    "    TRAVEL_100_KM = BIKE and CAR\n",
    "\n",
    "    print(f\"You have BIKE: {BIKE}\")\n",
    "    print(f\"You have CAR: {CAR}\")\n",
    "    print(f\"You can travel 100 KMs: {TRAVEL_100_KM}\\n\")\n",
    "    \n",
    "BIKE = [False, False, True, True]\n",
    "CAR = [False, True,False, True]\n",
    "\n",
    "for bike, car in zip(BIKE, CAR):\n",
    "    travel_or_not(bike, car)"
   ]
  },
  {
   "cell_type": "code",
   "execution_count": null,
   "id": "f900e9aa-99d2-4c8c-89a3-5481abe76d59",
   "metadata": {},
   "outputs": [],
   "source": []
  }
 ],
 "metadata": {
  "kernelspec": {
   "display_name": "Python 3 (ipykernel)",
   "language": "python",
   "name": "python3"
  },
  "language_info": {
   "codemirror_mode": {
    "name": "ipython",
    "version": 3
   },
   "file_extension": ".py",
   "mimetype": "text/x-python",
   "name": "python",
   "nbconvert_exporter": "python",
   "pygments_lexer": "ipython3",
   "version": "3.11.7"
  }
 },
 "nbformat": 4,
 "nbformat_minor": 5
}
