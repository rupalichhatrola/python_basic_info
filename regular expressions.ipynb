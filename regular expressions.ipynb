{
 "cells": [
  {
   "cell_type": "markdown",
   "id": "decb2d8c-f949-4f3d-999e-573f0637ec6a",
   "metadata": {},
   "source": [
    "Regular expressions (RegEx)"
   ]
  },
  {
   "cell_type": "code",
   "execution_count": 1,
   "id": "64ca8448-3504-41bc-b374-164d9bae4acd",
   "metadata": {},
   "outputs": [
    {
     "name": "stdout",
     "output_type": "stream",
     "text": [
      "Search successful.\n"
     ]
    }
   ],
   "source": [
    "# A Regular Expression (RegEx) is a sequence of characters that defines a search pattern.\n",
    "import re\n",
    "\n",
    "pattern = '^a...s$'\n",
    "test_string = 'abyss'\n",
    "result = re.match(pattern, test_string)\n",
    "\n",
    "if result:\n",
    "  print(\"Search successful.\")\n",
    "else:\n",
    "  print(\"Search unsuccessful.\")"
   ]
  },
  {
   "cell_type": "code",
   "execution_count": 2,
   "id": "689b8ff4-50e3-4f66-9aa6-031bfac2dffb",
   "metadata": {},
   "outputs": [
    {
     "name": "stdout",
     "output_type": "stream",
     "text": [
      "['12', '89', '34']\n"
     ]
    }
   ],
   "source": [
    "# Program to extract numbers from a string\n",
    "# re.findall()\n",
    "import re\n",
    "\n",
    "string = 'hello 12 hi 89. Howdy 34'\n",
    "pattern = '\\d+'\n",
    "\n",
    "result = re.findall(pattern, string) \n",
    "print(result)"
   ]
  },
  {
   "cell_type": "code",
   "execution_count": 3,
   "id": "4fa8b839-f0b3-4290-bf2e-1ad3a82ae129",
   "metadata": {},
   "outputs": [
    {
     "name": "stdout",
     "output_type": "stream",
     "text": [
      "['Seven:', ' Eighty nine:', '.']\n"
     ]
    }
   ],
   "source": [
    "# re.split()\n",
    "\n",
    "import re\n",
    "\n",
    "string = 'Seven:7 Eighty nine:89.'\n",
    "pattern = '\\d+'\n",
    "\n",
    "result = re.split(pattern, string) \n",
    "print(result)\n",
    "\n",
    "# Output: ['Twelve:', ' Eighty nine:', '.']"
   ]
  },
  {
   "cell_type": "code",
   "execution_count": 4,
   "id": "d52e3fb2-d570-4e7c-b2af-60c7c588c3b4",
   "metadata": {},
   "outputs": [
    {
     "name": "stdout",
     "output_type": "stream",
     "text": [
      "abc12de23f456\n"
     ]
    }
   ],
   "source": [
    "# re.sub()\n",
    "# Program to remove all whitespaces\n",
    "import re\n",
    "\n",
    "# multiline string\n",
    "string = 'abc 12\\\n",
    "de 23 \\n f45 6'\n",
    "\n",
    "# matches all whitespace characters\n",
    "pattern = '\\s+'\n",
    "\n",
    "# empty string\n",
    "replace = ''\n",
    "\n",
    "new_string = re.sub(pattern, replace, string) \n",
    "print(new_string)"
   ]
  },
  {
   "cell_type": "code",
   "execution_count": 5,
   "id": "36b0cd48-9e8a-4b48-a533-4b6b1f5eff38",
   "metadata": {},
   "outputs": [
    {
     "name": "stdout",
     "output_type": "stream",
     "text": [
      "('abc12de23f456', 4)\n"
     ]
    }
   ],
   "source": [
    "# Program to remove all whitespaces\n",
    "import re\n",
    "\n",
    "# multiline string\n",
    "string = 'abc 12\\\n",
    "de 23 \\n f45 6'\n",
    "\n",
    "# matches all whitespace characters\n",
    "pattern = '\\s+'\n",
    "\n",
    "# empty string\n",
    "replace = ''\n",
    "\n",
    "new_string = re.subn(pattern, replace, string) \n",
    "print(new_string)"
   ]
  },
  {
   "cell_type": "code",
   "execution_count": 6,
   "id": "ab37a555-1c92-44db-bc42-c2222073ac0f",
   "metadata": {},
   "outputs": [
    {
     "name": "stdout",
     "output_type": "stream",
     "text": [
      "Pattern found inside the string\n"
     ]
    }
   ],
   "source": [
    "import re\n",
    "\n",
    "string = \"Python is fun\"\n",
    "\n",
    "# check if 'Python' is at the beginning\n",
    "match = re.search('\\APython', string)\n",
    "\n",
    "if match:\n",
    "  print(\"Pattern found inside the string\")\n",
    "else:\n",
    "  print(\"Pattern not found\")"
   ]
  },
  {
   "cell_type": "code",
   "execution_count": 7,
   "id": "25265e77-9566-4f57-87ec-f7f08ea6097d",
   "metadata": {},
   "outputs": [
    {
     "name": "stdout",
     "output_type": "stream",
     "text": [
      "801 35\n"
     ]
    }
   ],
   "source": [
    "import re\n",
    "\n",
    "string = '39801 356, 2102 1111'\n",
    "\n",
    "# Three digit number followed by space followed by two digit number\n",
    "pattern = '(\\d{3}) (\\d{2})'\n",
    "\n",
    "# match variable contains a Match object.\n",
    "match = re.search(pattern, string) \n",
    "\n",
    "if match:\n",
    "  print(match.group())\n",
    "else:\n",
    "  print(\"pattern not found\")"
   ]
  },
  {
   "cell_type": "code",
   "execution_count": 8,
   "id": "136811e5-8b25-40ba-a3a6-26347b479f82",
   "metadata": {},
   "outputs": [],
   "source": [
    "import re # finditer"
   ]
  },
  {
   "cell_type": "code",
   "execution_count": 9,
   "id": "a4a58231-d1fa-4ec2-8300-4ddb2930ca9c",
   "metadata": {},
   "outputs": [
    {
     "name": "stdout",
     "output_type": "stream",
     "text": [
      "There is inform\n"
     ]
    }
   ],
   "source": [
    "if re.search(\"inform\", \" we need to inform him with latest information\"):\n",
    "    print(\"There is inform\")"
   ]
  },
  {
   "cell_type": "code",
   "execution_count": 10,
   "id": "8cf569b1-0177-4ad0-a927-943732ac147b",
   "metadata": {},
   "outputs": [
    {
     "name": "stdout",
     "output_type": "stream",
     "text": [
      "inform\n",
      "inform\n"
     ]
    }
   ],
   "source": [
    "allinform = re.findall(\"inform\", \" we need to inform him with latest information\")\n",
    "for i in allinform:\n",
    "    print(i)"
   ]
  },
  {
   "cell_type": "code",
   "execution_count": 11,
   "id": "0faa14e1-6f87-492b-b788-1e3fe9b96caf",
   "metadata": {},
   "outputs": [
    {
     "name": "stdout",
     "output_type": "stream",
     "text": [
      "(11, 17)\n",
      "(38, 44)\n"
     ]
    }
   ],
   "source": [
    "str = \"we need to inform him with the latest information\"\n",
    "for i in re.finditer(\"inform\",str):\n",
    "    loctup = i.span()\n",
    "    print(loctup)"
   ]
  },
  {
   "cell_type": "code",
   "execution_count": 12,
   "id": "065f2efe-0cc1-44b7-910c-9e2c38da2766",
   "metadata": {},
   "outputs": [
    {
     "name": "stdout",
     "output_type": "stream",
     "text": [
      "sat\n",
      "hat\n",
      "mat\n"
     ]
    }
   ],
   "source": [
    "str = \"sat, hat, mat, bat, pat\"\n",
    "allstr = re.findall(\"[shm]at\",str)\n",
    "for i in allstr:\n",
    "    print(i)\n"
   ]
  },
  {
   "cell_type": "code",
   "execution_count": 13,
   "id": "25f5b084-3a68-42f5-a251-59917b5df057",
   "metadata": {},
   "outputs": [
    {
     "name": "stdout",
     "output_type": "stream",
     "text": [
      "sat\n",
      "bat\n",
      "pat\n"
     ]
    }
   ],
   "source": [
    "str = \"sat, hat, mat, bat, pat\"\n",
    "allstr = re.findall(\"[^h-m]at\",str)  # [h-m]\n",
    "\n",
    "for i in allstr:\n",
    "    print(i)"
   ]
  },
  {
   "cell_type": "code",
   "execution_count": 14,
   "id": "305f02e1-886c-4ec1-874e-c8e5da88ff13",
   "metadata": {},
   "outputs": [
    {
     "name": "stdout",
     "output_type": "stream",
     "text": [
      "hat  food mat pat\n"
     ]
    }
   ],
   "source": [
    "food = \"hat  rat mat pat\"\n",
    "\n",
    "reg = re.compile(\"[r]at\")\n",
    "\n",
    "food = reg.sub(\"food\", food)\n",
    "\n",
    "print(food)"
   ]
  },
  {
   "cell_type": "code",
   "execution_count": 15,
   "id": "06bafd00-0d13-4e7e-84c9-b06ea5bc3dce",
   "metadata": {},
   "outputs": [
    {
     "name": "stdout",
     "output_type": "stream",
     "text": [
      "<re.Match object; span=(8, 14), match='\\\\jalpa'>\n"
     ]
    }
   ],
   "source": [
    "randstr = \"here is \\\\jalpa\"\n",
    "#print(randstr)\n",
    "print(re.search(r\"\\\\jalpa\", randstr))"
   ]
  },
  {
   "cell_type": "code",
   "execution_count": 16,
   "id": "5e87b9de-263d-4e10-be0c-b8008ea18a9e",
   "metadata": {},
   "outputs": [
    {
     "name": "stdout",
     "output_type": "stream",
     "text": [
      "Keep the blue \n",
      "flag flying high \n",
      "chelsea\n",
      "Keep the blue  flag flying high  chelsea\n"
     ]
    }
   ],
   "source": [
    "randstr = '''Keep the blue \n",
    "flag flying high \n",
    "chelsea'''\n",
    "print(randstr)\n",
    "\n",
    "reg = re.compile(\"\\n\") # \\b bachspace /f formfeed \\r carrige return \\t tab \\v vertical\n",
    "\n",
    "randstr = reg.sub(\" \", randstr)\n",
    "\n",
    "print(randstr)"
   ]
  },
  {
   "cell_type": "code",
   "execution_count": 17,
   "id": "1c983532-f112-4f89-aaeb-53be7427579b",
   "metadata": {},
   "outputs": [
    {
     "name": "stdout",
     "output_type": "stream",
     "text": [
      "Matches :  5\n"
     ]
    }
   ],
   "source": [
    "randstr = \"12345\"\n",
    "print(\"Matches : \", len(re.findall(\"\\d{1}\", randstr)))  #D"
   ]
  },
  {
   "cell_type": "code",
   "execution_count": 18,
   "id": "a2f720c3-7133-4410-b09a-605925e99b83",
   "metadata": {},
   "outputs": [
    {
     "name": "stdout",
     "output_type": "stream",
     "text": [
      "Matches:  3\n"
     ]
    }
   ],
   "source": [
    "num = \" 123 1234 12345 123456 1234567\"\n",
    "print(\"Matches: \", len(re.findall(\"\\d{5,7}\",num)))"
   ]
  },
  {
   "cell_type": "code",
   "execution_count": 19,
   "id": "bffe7bd1-3c25-4244-abf5-a1124d311214",
   "metadata": {},
   "outputs": [],
   "source": [
    "# \\w [a-zA-Z0-9_]\n",
    "#\\W [^a-zA-Z0-9]\n",
    "import re\n",
    "\n",
    "phn = \"412-555-1234\"\n",
    "\n",
    "if re.search(\"\\w{3}-\\w{3}-w{4}\",phn): # also use \\d\n",
    "    \n",
    "    print(\"It is a phone number\")"
   ]
  },
  {
   "cell_type": "code",
   "execution_count": 20,
   "id": "dae1c769-ccad-43c4-9b79-e54b93165744",
   "metadata": {},
   "outputs": [
    {
     "name": "stdout",
     "output_type": "stream",
     "text": [
      "(257) 563-7401\n",
      "(372) 587-2335\n",
      "(786) 713-8616\n",
      "(793) 151-6230\n",
      "(492) 709-6392\n",
      "(654) 393-5734\n",
      "(404) 960-3807\n",
      "(314) 244-6306\n",
      "(947) 278-5929\n",
      "(684) 579-1879\n",
      "(389) 737-2852\n",
      "(660) 663-4518\n",
      "(608) 265-2215\n",
      "(959) 119-8364\n",
      "(468) 353-2641\n",
      "(248) 675-4007\n",
      "(939) 353-1107\n",
      "(570) 873-7090\n",
      "(302) 259-2375\n",
      "(717) 450-4729\n",
      "(453) 391-4650\n",
      "(559) 104-5475\n",
      "(387) 142-9434\n",
      "(516) 745-4496\n",
      "(326) 677-3419\n",
      "(746) 679-2470\n",
      "(455) 430-0989\n",
      "(490) 936-4694\n",
      "(985) 834-8285\n",
      "(662) 661-1446\n",
      "(802) 668-8240\n",
      "(477) 768-9247\n",
      "(791) 239-9057\n",
      "(832) 109-0213\n",
      "(837) 196-3274\n",
      "(268) 442-2428\n",
      "(850) 676-5117\n",
      "(861) 546-5032\n",
      "(176) 805-4108\n",
      "(715) 912-6931\n",
      "(993) 554-0563\n",
      "(357) 616-5411\n",
      "(121) 347-0086\n",
      "(304) 506-6314\n",
      "(425) 288-2332\n",
      "(145) 987-4962\n",
      "(187) 582-9707\n",
      "(750) 558-3965\n",
      "(492) 467-3131\n",
      "(774) 914-2510\n",
      "(888) 106-8550\n",
      "(539) 567-3573\n",
      "(693) 337-2849\n",
      "(545) 604-9386\n",
      "(221) 156-5026\n",
      "(414) 876-0865\n",
      "(932) 726-8645\n",
      "(726) 710-9826\n",
      "(622) 594-1662\n",
      "(948) 600-8503\n",
      "(605) 900-7508\n",
      "(716) 977-5775\n",
      "(368) 239-8275\n",
      "(725) 342-0650\n",
      "(711) 993-5187\n",
      "(882) 399-5084\n",
      "(287) 755-9948\n",
      "(659) 551-3389\n",
      "(275) 730-6868\n",
      "(725) 757-4047\n",
      "(314) 882-1496\n",
      "(639) 360-7590\n",
      "(168) 222-1592\n",
      "(896) 303-1164\n",
      "(203) 982-6130\n",
      "(906) 217-1470\n",
      "(614) 514-1269\n",
      "(763) 409-5446\n",
      "(836) 292-5324\n",
      "(926) 709-3295\n",
      "(963) 356-9268\n",
      "(736) 522-8584\n",
      "(410) 483-0352\n",
      "(252) 204-1434\n",
      "(874) 886-4174\n",
      "(581) 379-7573\n",
      "(983) 632-8597\n",
      "(295) 983-3476\n",
      "(873) 392-8802\n",
      "(360) 669-3923\n",
      "(840) 987-9449\n",
      "(422) 517-6053\n",
      "(126) 940-2753\n",
      "(427) 930-5255\n",
      "(689) 721-5145\n",
      "(676) 334-2174\n",
      "(437) 994-5270\n",
      "(564) 908-6970\n",
      "(577) 333-6244\n",
      "(655) 840-6139\n"
     ]
    }
   ],
   "source": [
    "import urllib.request\n",
    "from re import findall\n",
    "\n",
    "url = \"http://www.summet.com/dmsi/html/codesamples/addresses.html\"\n",
    "\n",
    "response = urllib.request.urlopen(url)\n",
    "\n",
    "html = response.read()\n",
    "\n",
    "htmlstr = html.decode()\n",
    "\n",
    "data = findall(\"\\(\\d{3}\\) \\d{3}-\\d{4}\",htmlstr)\n",
    "\n",
    "for i in data:\n",
    "    print(i)"
   ]
  },
  {
   "cell_type": "code",
   "execution_count": null,
   "id": "5a54c575-5f68-414e-a040-77edd91f0119",
   "metadata": {},
   "outputs": [],
   "source": []
  }
 ],
 "metadata": {
  "kernelspec": {
   "display_name": "Python 3 (ipykernel)",
   "language": "python",
   "name": "python3"
  },
  "language_info": {
   "codemirror_mode": {
    "name": "ipython",
    "version": 3
   },
   "file_extension": ".py",
   "mimetype": "text/x-python",
   "name": "python",
   "nbconvert_exporter": "python",
   "pygments_lexer": "ipython3",
   "version": "3.11.7"
  }
 },
 "nbformat": 4,
 "nbformat_minor": 5
}
