{
 "cells": [
  {
   "cell_type": "code",
   "execution_count": 1,
   "id": "98386037-f214-4dd3-8dfb-2e38b6af6512",
   "metadata": {},
   "outputs": [
    {
     "data": {
      "text/plain": [
       "<function __main__.<lambda>(x)>"
      ]
     },
     "execution_count": 1,
     "metadata": {},
     "output_type": "execute_result"
    }
   ],
   "source": [
    "#Lambda Functions\n",
    "lambda x: x+1"
   ]
  },
  {
   "cell_type": "code",
   "execution_count": 2,
   "id": "be6a292e-fcc4-42ae-8fbf-006f57e331d7",
   "metadata": {},
   "outputs": [],
   "source": [
    "#Addition\n",
    "x=lambda x,y:x+y"
   ]
  },
  {
   "cell_type": "code",
   "execution_count": 3,
   "id": "0cceaa35-8d7d-4f12-bf53-e98bd8fea6a4",
   "metadata": {},
   "outputs": [
    {
     "data": {
      "text/plain": [
       "555"
      ]
     },
     "execution_count": 3,
     "metadata": {},
     "output_type": "execute_result"
    }
   ],
   "source": [
    "x(222,333)"
   ]
  },
  {
   "cell_type": "code",
   "execution_count": 4,
   "id": "419af05c-8eeb-43de-ab69-3b9df1f4de39",
   "metadata": {},
   "outputs": [],
   "source": [
    "# Concatinating two Lists\n",
    "x=lambda x,y:x+y"
   ]
  },
  {
   "cell_type": "code",
   "execution_count": 5,
   "id": "93d4cf4a-e696-40b5-a0aa-eef679d3ed14",
   "metadata": {},
   "outputs": [
    {
     "data": {
      "text/plain": [
       "[1, 2, 3, 4, 5, 5, 4, 3, 2, 1]"
      ]
     },
     "execution_count": 5,
     "metadata": {},
     "output_type": "execute_result"
    }
   ],
   "source": [
    "l1=[1,2,3,4,5]\n",
    "l2=[5,4,3,2,1]\n",
    "x(l1,l2)"
   ]
  },
  {
   "cell_type": "code",
   "execution_count": 6,
   "id": "12a42cc9-1c51-46e6-8aaa-92f77e6b5ce3",
   "metadata": {},
   "outputs": [
    {
     "data": {
      "text/plain": [
       "<map at 0x2549d08b850>"
      ]
     },
     "execution_count": 6,
     "metadata": {},
     "output_type": "execute_result"
    }
   ],
   "source": [
    "#Map\n",
    "l=[1,2,3,4,5]\n",
    "map(lambda x:x+1,l)"
   ]
  },
  {
   "cell_type": "code",
   "execution_count": 7,
   "id": "17b207c3-bbba-4ae9-bc75-5369bebf7f32",
   "metadata": {},
   "outputs": [
    {
     "data": {
      "text/plain": [
       "[2, 3, 4, 5, 6]"
      ]
     },
     "execution_count": 7,
     "metadata": {},
     "output_type": "execute_result"
    }
   ],
   "source": [
    "list(map(lambda x:x+1,l))"
   ]
  },
  {
   "cell_type": "code",
   "execution_count": 8,
   "id": "e82b4c1e-6b2a-456e-a9c3-6df00d4372db",
   "metadata": {},
   "outputs": [
    {
     "data": {
      "text/plain": [
       "[1, 2, 3, 4, 5]"
      ]
     },
     "execution_count": 8,
     "metadata": {},
     "output_type": "execute_result"
    }
   ],
   "source": [
    "l1"
   ]
  },
  {
   "cell_type": "code",
   "execution_count": 9,
   "id": "ce62f8ad-dec9-4cc1-bc88-24ae738e3a85",
   "metadata": {},
   "outputs": [
    {
     "data": {
      "text/plain": [
       "[5, 4, 3, 2, 1]"
      ]
     },
     "execution_count": 9,
     "metadata": {},
     "output_type": "execute_result"
    }
   ],
   "source": [
    "l2"
   ]
  },
  {
   "cell_type": "code",
   "execution_count": 10,
   "id": "96eff176-5898-4ba9-b348-39c380dcb480",
   "metadata": {},
   "outputs": [
    {
     "data": {
      "text/plain": [
       "[6, 6, 6, 6, 6]"
      ]
     },
     "execution_count": 10,
     "metadata": {},
     "output_type": "execute_result"
    }
   ],
   "source": [
    "# Adding two lists\n",
    "list(map(lambda x,y:x+y,l1,l2))"
   ]
  },
  {
   "cell_type": "code",
   "execution_count": 11,
   "id": "9ff075ab-97d7-4927-b071-cca9a231e483",
   "metadata": {},
   "outputs": [],
   "source": [
    "#Reduce\n",
    "from functools import reduce"
   ]
  },
  {
   "cell_type": "code",
   "execution_count": 12,
   "id": "63d63ddd-8b50-47f4-b198-4fdd919e2671",
   "metadata": {},
   "outputs": [
    {
     "data": {
      "text/plain": [
       "[1, 2, 3, 4, 5]"
      ]
     },
     "execution_count": 12,
     "metadata": {},
     "output_type": "execute_result"
    }
   ],
   "source": [
    "l1"
   ]
  },
  {
   "cell_type": "code",
   "execution_count": 13,
   "id": "d4dd2db9-eb33-4f44-98f6-0ce7a4b1bbd2",
   "metadata": {},
   "outputs": [
    {
     "data": {
      "text/plain": [
       "5"
      ]
     },
     "execution_count": 13,
     "metadata": {},
     "output_type": "execute_result"
    }
   ],
   "source": [
    "# Find biggest number in list\n",
    "reduce(lambda x,y:x if x>y else y,l1)"
   ]
  },
  {
   "cell_type": "code",
   "execution_count": 14,
   "id": "a4159bda-2f2c-45fa-868f-df4da9e96222",
   "metadata": {},
   "outputs": [
    {
     "data": {
      "text/plain": [
       "15"
      ]
     },
     "execution_count": 14,
     "metadata": {},
     "output_type": "execute_result"
    }
   ],
   "source": [
    "# Add Numbers in List\n",
    "reduce(lambda x,y:x+y,l1)"
   ]
  },
  {
   "cell_type": "code",
   "execution_count": 15,
   "id": "0c44c0b2-75ff-4717-a77e-5b2a0cabf4e7",
   "metadata": {},
   "outputs": [
    {
     "data": {
      "text/plain": [
       "[1, 3, 5]"
      ]
     },
     "execution_count": 15,
     "metadata": {},
     "output_type": "execute_result"
    }
   ],
   "source": [
    "#Filter\n",
    "# Filter odd numbers in list\n",
    "list(filter(lambda x:x%2!=0,l1))"
   ]
  },
  {
   "cell_type": "code",
   "execution_count": null,
   "id": "abdc470e-7d5e-4890-b801-484aa7b09203",
   "metadata": {},
   "outputs": [],
   "source": [
    "# Filter negative numbers in a list\n",
    "l=[-1,-4,-7,-3,7,-2,7,93,-73,7,2,625,73,-33]\n",
    "list(filter(lambda x:x<0,l))"
   ]
  }
 ],
 "metadata": {
  "kernelspec": {
   "display_name": "Python 3 (ipykernel)",
   "language": "python",
   "name": "python3"
  },
  "language_info": {
   "codemirror_mode": {
    "name": "ipython",
    "version": 3
   },
   "file_extension": ".py",
   "mimetype": "text/x-python",
   "name": "python",
   "nbconvert_exporter": "python",
   "pygments_lexer": "ipython3",
   "version": "3.11.7"
  }
 },
 "nbformat": 4,
 "nbformat_minor": 5
}
