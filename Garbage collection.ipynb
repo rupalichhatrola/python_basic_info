{
 "cells": [
  {
   "cell_type": "markdown",
   "id": "d0422f45-3829-4419-ab75-8bd2fddc31aa",
   "metadata": {},
   "source": [
    "Garbage collection\n",
    "Garbage collection is a memory management technique used in programming languages to automatically reclaim memory \n",
    "that is no longer accessible or in use by the application. \n",
    "It helps prevent memory leaks, optimize memory usage, and ensure efficient memory allocation for the program."
   ]
  },
  {
   "cell_type": "code",
   "execution_count": 1,
   "id": "4ec41880-c757-4de0-a79c-db98a4fbfc7f",
   "metadata": {},
   "outputs": [],
   "source": [
    "b = 5\n"
   ]
  },
  {
   "cell_type": "code",
   "execution_count": 2,
   "id": "81ad2ba8-12c1-4580-9279-d6ce0f2cd9ae",
   "metadata": {},
   "outputs": [],
   "source": [
    "b =9"
   ]
  },
  {
   "cell_type": "code",
   "execution_count": 3,
   "id": "334b67b0-910e-455d-895f-97c871f9686b",
   "metadata": {},
   "outputs": [
    {
     "name": "stdout",
     "output_type": "stream",
     "text": [
      "9\n"
     ]
    }
   ],
   "source": [
    "print(b)"
   ]
  },
  {
   "cell_type": "code",
   "execution_count": 4,
   "id": "bd2b3754-b3e4-4a7f-bde4-051a23f03a88",
   "metadata": {},
   "outputs": [
    {
     "name": "stdout",
     "output_type": "stream",
     "text": [
      "140715285136424\n"
     ]
    }
   ],
   "source": [
    "print(id(b))"
   ]
  },
  {
   "cell_type": "code",
   "execution_count": 5,
   "id": "b710997b-167f-47b6-9758-99ba42768ea6",
   "metadata": {},
   "outputs": [],
   "source": [
    "#Automatic Garbage Collection"
   ]
  },
  {
   "cell_type": "code",
   "execution_count": 6,
   "id": "6f849126-97b2-43c1-856a-ad6d535d1ce8",
   "metadata": {},
   "outputs": [
    {
     "name": "stdout",
     "output_type": "stream",
     "text": [
      "Garbage collection thresholds: (700, 10, 10)\n"
     ]
    }
   ],
   "source": [
    "# loading gc\n",
    "import gc\n",
    "# get the current collection \n",
    "# thresholds as a tuple\n",
    "print(\"Garbage collection thresholds:\",\n",
    "                    gc.get_threshold())"
   ]
  },
  {
   "cell_type": "markdown",
   "id": "7c38cf2b-7a3a-40d6-a19c-e11fe5f4962d",
   "metadata": {},
   "source": [
    "Here, the default threshold on the above system is 700. This means when the number of allocations vs. the number of deallocations is greater than 700 the automatic garbage collector will run. Thus any portion of your code which frees up large blocks of memory is a good candidate for running manual garbage collection. "
   ]
  },
  {
   "cell_type": "code",
   "execution_count": 8,
   "id": "7df9684f-0139-425f-94ed-bec3b9b2c1e6",
   "metadata": {},
   "outputs": [],
   "source": [
    "#Manual Garbage Collection"
   ]
  },
  {
   "cell_type": "code",
   "execution_count": 9,
   "id": "9b57c5f9-454e-47e7-b506-c395c7f365ac",
   "metadata": {},
   "outputs": [
    {
     "name": "stdout",
     "output_type": "stream",
     "text": [
      "Garbage collector: collected 0 objects.\n"
     ]
    }
   ],
   "source": [
    "# Importing gc module\n",
    "import gc\n",
    " \n",
    "# Returns the number of\n",
    "# objects it has collected\n",
    "# and deallocated\n",
    "collected = gc.collect()\n",
    " \n",
    "# Prints Garbage collector\n",
    "# as 0 object\n",
    "print(\"Garbage collector: collected\",\n",
    "          \"%d objects.\" % collected)"
   ]
  },
  {
   "cell_type": "code",
   "execution_count": null,
   "id": "c693a2a6-745c-46af-903c-ad5f15d0b74e",
   "metadata": {},
   "outputs": [],
   "source": []
  }
 ],
 "metadata": {
  "kernelspec": {
   "display_name": "Python 3 (ipykernel)",
   "language": "python",
   "name": "python3"
  },
  "language_info": {
   "codemirror_mode": {
    "name": "ipython",
    "version": 3
   },
   "file_extension": ".py",
   "mimetype": "text/x-python",
   "name": "python",
   "nbconvert_exporter": "python",
   "pygments_lexer": "ipython3",
   "version": "3.11.7"
  }
 },
 "nbformat": 4,
 "nbformat_minor": 5
}
