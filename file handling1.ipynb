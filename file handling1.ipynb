{
 "cells": [
  {
   "cell_type": "code",
   "execution_count": 1,
   "id": "7a16291e-b7bf-4e01-8c78-6f1fa45d11f8",
   "metadata": {},
   "outputs": [
    {
     "name": "stdout",
     "output_type": "stream",
     "text": [
      " Volume in drive C has no label.\n",
      " Volume Serial Number is 9EFD-51B1\n",
      "\n",
      " Directory of C:\\Users\\faculty pc\\rupali\n",
      "\n",
      "05/24/2024  10:08 AM    <DIR>          .\n",
      "05/24/2024  09:52 AM    <DIR>          ..\n",
      "05/24/2024  10:08 AM    <DIR>          .ipynb_checkpoints\n",
      "05/16/2024  10:16 AM            27,256 basic,if-else statement.ipynb\n",
      "05/17/2024  09:26 AM            15,146 date_time_delta_module.ipynb\n",
      "05/24/2024  10:06 AM             6,713 File Handling.ipynb\n",
      "05/17/2024  05:18 PM            24,809 for loop_while loop.ipynb\n",
      "05/17/2024  09:51 AM             3,057 Garbage collection.ipynb\n",
      "05/24/2024  09:22 AM             6,074 lambda function.ipynb\n",
      "05/17/2024  04:59 PM            22,584 list,tuple,dictionary,sets.ipynb\n",
      "05/24/2024  10:06 AM            15,781 OS modules.ipynb\n",
      "05/16/2024  10:18 AM             9,386 python basic info.ipynb\n",
      "05/24/2024  09:30 AM            13,577 regular expressions.ipynb\n",
      "05/24/2024  09:43 AM    <DIR>          test1\n",
      "05/24/2024  09:34 AM    <DIR>          THIS\n",
      "05/24/2024  10:08 AM                72 Untitled.ipynb\n",
      "05/17/2024  05:18 PM             2,480 zip_file Unzip_file.ipynb\n",
      "              12 File(s)        146,935 bytes\n",
      "               5 Dir(s)  41,933,574,144 bytes free\n"
     ]
    }
   ],
   "source": [
    "%ls"
   ]
  },
  {
   "cell_type": "code",
   "execution_count": 3,
   "id": "57ba2d3e-8686-47a2-a0e0-01515549bba7",
   "metadata": {},
   "outputs": [
    {
     "data": {
      "text/plain": [
       "'readme.txt'"
      ]
     },
     "execution_count": 3,
     "metadata": {},
     "output_type": "execute_result"
    }
   ],
   "source": [
    "#f = open('readme.txt' , \"w\")\n",
    "#f.name"
   ]
  },
  {
   "cell_type": "code",
   "execution_count": 4,
   "id": "5a887df0-12dd-43a8-9fab-9e41ae2a96fc",
   "metadata": {},
   "outputs": [],
   "source": [
    "with open('readme.txt', 'w') as f:\n",
    "    f.write('Create a new text file!')"
   ]
  },
  {
   "cell_type": "code",
   "execution_count": 5,
   "id": "82a7ff4e-4e04-4d46-9c51-54909e7047ef",
   "metadata": {},
   "outputs": [],
   "source": [
    "with open('readme.txt', 'w') as f:\n",
    "    f.write('i can write lines at current cursor ')"
   ]
  },
  {
   "cell_type": "code",
   "execution_count": 6,
   "id": "7c3096c4-5c37-40e5-9a0e-06b5315a4b7e",
   "metadata": {},
   "outputs": [
    {
     "name": "stdout",
     "output_type": "stream",
     "text": [
      "The 'docs' directory does not exist\n"
     ]
    }
   ],
   "source": [
    "try:\n",
    "    with open('docs/readme1.txti', 'r') as f:\n",
    "        f.write('Create a new text file!')\n",
    "except FileNotFoundError:\n",
    "    print(\"The 'docs' directory does not exist\")"
   ]
  },
  {
   "cell_type": "code",
   "execution_count": 7,
   "id": "a20ad0c4-5115-46b4-a99d-533584cdb694",
   "metadata": {},
   "outputs": [],
   "source": [
    "f.close()"
   ]
  },
  {
   "cell_type": "code",
   "execution_count": 8,
   "id": "0efae09b-eb59-4c83-b5d3-f87924868989",
   "metadata": {},
   "outputs": [],
   "source": [
    "with open('readme.csv', 'w') as f:\n",
    "    f.write('Create a new text file!')"
   ]
  },
  {
   "cell_type": "code",
   "execution_count": 9,
   "id": "ad581325-eabb-4b5b-baa7-99c268a4c4a2",
   "metadata": {},
   "outputs": [
    {
     "name": "stdout",
     "output_type": "stream",
     "text": [
      " Volume in drive C has no label.\n",
      " Volume Serial Number is 9EFD-51B1\n",
      "\n",
      " Directory of C:\\Users\\faculty pc\\rupali\n",
      "\n",
      "05/24/2024  10:10 AM    <DIR>          .\n",
      "05/24/2024  09:52 AM    <DIR>          ..\n",
      "05/24/2024  10:11 AM    <DIR>          .ipynb_checkpoints\n",
      "05/16/2024  10:16 AM            27,256 basic,if-else statement.ipynb\n",
      "05/17/2024  09:26 AM            15,146 date_time_delta_module.ipynb\n",
      "05/24/2024  10:06 AM             6,713 File Handling.ipynb\n",
      "05/17/2024  05:18 PM            24,809 for loop_while loop.ipynb\n",
      "05/17/2024  09:51 AM             3,057 Garbage collection.ipynb\n",
      "05/24/2024  09:22 AM             6,074 lambda function.ipynb\n",
      "05/17/2024  04:59 PM            22,584 list,tuple,dictionary,sets.ipynb\n",
      "05/24/2024  10:08 AM            13,681 OS modules.ipynb\n",
      "05/16/2024  10:18 AM             9,386 python basic info.ipynb\n",
      "05/24/2024  10:10 AM                23 readme.csv\n",
      "05/24/2024  10:09 AM                36 readme.txt\n",
      "05/24/2024  09:30 AM            13,577 regular expressions.ipynb\n",
      "05/24/2024  09:43 AM    <DIR>          test1\n",
      "05/24/2024  09:34 AM    <DIR>          THIS\n",
      "05/24/2024  10:10 AM             3,259 Untitled.ipynb\n",
      "05/17/2024  05:18 PM             2,480 zip_file Unzip_file.ipynb\n",
      "              14 File(s)        148,081 bytes\n",
      "               5 Dir(s)  41,924,481,024 bytes free\n"
     ]
    }
   ],
   "source": [
    "ls"
   ]
  },
  {
   "cell_type": "code",
   "execution_count": 10,
   "id": "33bd0d6e-6677-4d87-8469-bcf76c778581",
   "metadata": {},
   "outputs": [],
   "source": [
    "l = [\"this is my line one \" , \"this is my line 2\" , \" this is my line 3 \" , \"this is my line 4\"]"
   ]
  },
  {
   "cell_type": "code",
   "execution_count": 11,
   "id": "5bae2215-7686-4862-bc1d-b720bdeee2da",
   "metadata": {},
   "outputs": [
    {
     "ename": "ValueError",
     "evalue": "I/O operation on closed file.",
     "output_type": "error",
     "traceback": [
      "\u001b[1;31m---------------------------------------------------------------------------\u001b[0m",
      "\u001b[1;31mValueError\u001b[0m                                Traceback (most recent call last)",
      "Cell \u001b[1;32mIn[11], line 1\u001b[0m\n\u001b[1;32m----> 1\u001b[0m f\u001b[38;5;241m.\u001b[39mwrite(\u001b[38;5;124m\"\u001b[39m\u001b[38;5;124m i can write lines at current cursor \u001b[39m\u001b[38;5;124m\"\u001b[39m)\n",
      "\u001b[1;31mValueError\u001b[0m: I/O operation on closed file."
     ]
    }
   ],
   "source": [
    "f.write(\" i can write lines at current cursor \")"
   ]
  },
  {
   "cell_type": "code",
   "execution_count": 12,
   "id": "a80a7308-82c0-4a28-9c16-6b90ee60f72c",
   "metadata": {},
   "outputs": [
    {
     "data": {
      "text/plain": [
       "'readme.txt'"
      ]
     },
     "execution_count": 12,
     "metadata": {},
     "output_type": "execute_result"
    }
   ],
   "source": [
    "f = open('readme.txt' , \"r+\")\n",
    "f.name"
   ]
  },
  {
   "cell_type": "code",
   "execution_count": 13,
   "id": "3277a363-882f-4281-9ce3-9d31fb0c2973",
   "metadata": {},
   "outputs": [
    {
     "data": {
      "text/plain": [
       "37"
      ]
     },
     "execution_count": 13,
     "metadata": {},
     "output_type": "execute_result"
    }
   ],
   "source": [
    "f.write(\" i can write lines at current cursor \")"
   ]
  },
  {
   "cell_type": "code",
   "execution_count": 14,
   "id": "47bf918f-579e-45d0-bdb8-27b4d3ae562e",
   "metadata": {},
   "outputs": [],
   "source": [
    "f.writelines(l)"
   ]
  },
  {
   "cell_type": "code",
   "execution_count": 15,
   "id": "08bc4b6e-312c-41f5-a856-382fc605839c",
   "metadata": {},
   "outputs": [],
   "source": [
    "f.close()"
   ]
  },
  {
   "cell_type": "markdown",
   "id": "56397479-8448-4571-a837-49931b12acb8",
   "metadata": {},
   "source": [
    "The flush() method in Python file handling clears the internal buffer of the file. In Python, files are automatically flushed while closing them. \n",
    "However, a programmer can flush a file before closing it by using the flush() method. "
   ]
  },
  {
   "cell_type": "code",
   "execution_count": 16,
   "id": "715eed67-4874-4038-930c-9e8e0b644b69",
   "metadata": {},
   "outputs": [
    {
     "ename": "ValueError",
     "evalue": "I/O operation on closed file.",
     "output_type": "error",
     "traceback": [
      "\u001b[1;31m---------------------------------------------------------------------------\u001b[0m",
      "\u001b[1;31mValueError\u001b[0m                                Traceback (most recent call last)",
      "Cell \u001b[1;32mIn[16], line 1\u001b[0m\n\u001b[1;32m----> 1\u001b[0m f\u001b[38;5;241m.\u001b[39mflush()\n",
      "\u001b[1;31mValueError\u001b[0m: I/O operation on closed file."
     ]
    }
   ],
   "source": [
    "f.flush()"
   ]
  },
  {
   "cell_type": "code",
   "execution_count": 17,
   "id": "3a2b40b8-60f0-476a-a665-1f9fc13c852e",
   "metadata": {},
   "outputs": [
    {
     "data": {
      "text/plain": [
       "'readme.txt'"
      ]
     },
     "execution_count": 17,
     "metadata": {},
     "output_type": "execute_result"
    }
   ],
   "source": [
    "f = open('readme.txt' , \"r+\")\n",
    "f.name"
   ]
  },
  {
   "cell_type": "code",
   "execution_count": 18,
   "id": "2b7e0117-c589-4810-93d3-90f7525c1e45",
   "metadata": {},
   "outputs": [],
   "source": [
    "f.writelines(l)"
   ]
  },
  {
   "cell_type": "code",
   "execution_count": 19,
   "id": "bac4d6be-c4a5-423e-886a-0a085d05f59a",
   "metadata": {},
   "outputs": [],
   "source": [
    "f.flush()"
   ]
  },
  {
   "cell_type": "code",
   "execution_count": 21,
   "id": "49e6b8cd-32c1-4db0-b915-041c9a34f432",
   "metadata": {},
   "outputs": [
    {
     "data": {
      "text/plain": [
       "4"
      ]
     },
     "execution_count": 21,
     "metadata": {},
     "output_type": "execute_result"
    }
   ],
   "source": [
    "f = open(\"google.txt\" , \"w\")\n",
    "f.fileno()"
   ]
  },
  {
   "cell_type": "code",
   "execution_count": 22,
   "id": "fdef95d3-28d4-4af8-9fb6-297e4e0f7287",
   "metadata": {},
   "outputs": [],
   "source": [
    "f.close()"
   ]
  },
  {
   "cell_type": "code",
   "execution_count": 23,
   "id": "f3fc073f-da4d-4c4b-9d5d-03f5631a6f1f",
   "metadata": {},
   "outputs": [
    {
     "name": "stdout",
     "output_type": "stream",
     "text": [
      " Volume in drive C has no label.\n",
      " Volume Serial Number is 9EFD-51B1\n",
      "\n",
      " Directory of C:\\Users\\faculty pc\\rupali\n",
      "\n",
      "05/24/2024  10:18 AM    <DIR>          .\n",
      "05/24/2024  09:52 AM    <DIR>          ..\n",
      "05/24/2024  10:12 AM    <DIR>          .ipynb_checkpoints\n",
      "05/16/2024  10:16 AM            27,256 basic,if-else statement.ipynb\n",
      "05/17/2024  09:26 AM            15,146 date_time_delta_module.ipynb\n",
      "05/24/2024  10:06 AM             6,713 File Handling.ipynb\n",
      "05/24/2024  10:18 AM            12,403 file handling1.ipynb\n",
      "05/17/2024  05:18 PM            24,809 for loop_while loop.ipynb\n",
      "05/17/2024  09:51 AM             3,057 Garbage collection.ipynb\n",
      "05/24/2024  10:18 AM                 0 google.txt\n",
      "05/24/2024  09:22 AM             6,074 lambda function.ipynb\n",
      "05/17/2024  04:59 PM            22,584 list,tuple,dictionary,sets.ipynb\n",
      "05/24/2024  10:08 AM            13,681 OS modules.ipynb\n",
      "05/16/2024  10:18 AM             9,386 python basic info.ipynb\n",
      "05/24/2024  10:10 AM                23 readme.csv\n",
      "05/24/2024  10:17 AM               110 readme.txt\n",
      "05/24/2024  09:30 AM            13,577 regular expressions.ipynb\n",
      "05/24/2024  09:43 AM    <DIR>          test1\n",
      "05/24/2024  09:34 AM    <DIR>          THIS\n",
      "05/17/2024  05:18 PM             2,480 zip_file Unzip_file.ipynb\n",
      "              15 File(s)        157,299 bytes\n",
      "               5 Dir(s)  41,922,560,000 bytes free\n"
     ]
    }
   ],
   "source": [
    "%ls"
   ]
  },
  {
   "cell_type": "code",
   "execution_count": 24,
   "id": "50843897-64aa-4ae9-ac08-ea31215e5153",
   "metadata": {},
   "outputs": [],
   "source": [
    "import os"
   ]
  },
  {
   "cell_type": "code",
   "execution_count": 25,
   "id": "0623c56a-c500-4127-9e1b-55b27f70bcc0",
   "metadata": {},
   "outputs": [],
   "source": [
    "os.remove(\"google.txt\")"
   ]
  },
  {
   "cell_type": "code",
   "execution_count": 26,
   "id": "502a746d-378d-4ee0-911d-d377e99fd783",
   "metadata": {},
   "outputs": [
    {
     "name": "stdout",
     "output_type": "stream",
     "text": [
      " Volume in drive C has no label.\n",
      " Volume Serial Number is 9EFD-51B1\n",
      "\n",
      " Directory of C:\\Users\\faculty pc\\rupali\n",
      "\n",
      "05/24/2024  10:19 AM    <DIR>          .\n",
      "05/24/2024  09:52 AM    <DIR>          ..\n",
      "05/24/2024  10:12 AM    <DIR>          .ipynb_checkpoints\n",
      "05/16/2024  10:16 AM            27,256 basic,if-else statement.ipynb\n",
      "05/17/2024  09:26 AM            15,146 date_time_delta_module.ipynb\n",
      "05/24/2024  10:06 AM             6,713 File Handling.ipynb\n",
      "05/24/2024  10:19 AM            12,363 file handling1.ipynb\n",
      "05/17/2024  05:18 PM            24,809 for loop_while loop.ipynb\n",
      "05/17/2024  09:51 AM             3,057 Garbage collection.ipynb\n",
      "05/24/2024  09:22 AM             6,074 lambda function.ipynb\n",
      "05/17/2024  04:59 PM            22,584 list,tuple,dictionary,sets.ipynb\n",
      "05/24/2024  10:08 AM            13,681 OS modules.ipynb\n",
      "05/16/2024  10:18 AM             9,386 python basic info.ipynb\n",
      "05/24/2024  10:10 AM                23 readme.csv\n",
      "05/24/2024  10:17 AM               110 readme.txt\n",
      "05/24/2024  09:30 AM            13,577 regular expressions.ipynb\n",
      "05/24/2024  09:43 AM    <DIR>          test1\n",
      "05/24/2024  09:34 AM    <DIR>          THIS\n",
      "05/17/2024  05:18 PM             2,480 zip_file Unzip_file.ipynb\n",
      "              14 File(s)        157,259 bytes\n",
      "               5 Dir(s)  41,921,904,640 bytes free\n"
     ]
    }
   ],
   "source": [
    "%ls"
   ]
  },
  {
   "cell_type": "code",
   "execution_count": 27,
   "id": "ff9424c9-d844-4a53-a4aa-760fca84f2f5",
   "metadata": {},
   "outputs": [
    {
     "data": {
      "text/plain": [
       "'C:\\\\Users\\\\faculty pc\\\\rupali'"
      ]
     },
     "execution_count": 27,
     "metadata": {},
     "output_type": "execute_result"
    }
   ],
   "source": [
    "os.getcwd()"
   ]
  },
  {
   "cell_type": "code",
   "execution_count": 28,
   "id": "107de995-12e0-439d-b5c3-1f36ed7ef514",
   "metadata": {},
   "outputs": [
    {
     "data": {
      "text/plain": [
       "'C:\\\\Users\\\\faculty pc\\\\rupali'"
      ]
     },
     "execution_count": 28,
     "metadata": {},
     "output_type": "execute_result"
    }
   ],
   "source": [
    "pwd()"
   ]
  },
  {
   "cell_type": "code",
   "execution_count": 30,
   "id": "b1759e75-bb4e-41ab-98ab-37fdcf47d4f8",
   "metadata": {},
   "outputs": [
    {
     "data": {
      "text/plain": [
       "['.ipynb_checkpoints',\n",
       " 'basic,if-else statement.ipynb',\n",
       " 'date_time_delta_module.ipynb',\n",
       " 'File Handling.ipynb',\n",
       " 'file handling1.ipynb',\n",
       " 'for loop_while loop.ipynb',\n",
       " 'Garbage collection.ipynb',\n",
       " 'lambda function.ipynb',\n",
       " 'list,tuple,dictionary,sets.ipynb',\n",
       " 'OS modules.ipynb',\n",
       " 'python basic info.ipynb',\n",
       " 'readme.csv',\n",
       " 'readme.txt',\n",
       " 'regular expressions.ipynb',\n",
       " 'test1',\n",
       " 'THIS',\n",
       " 'zip_file Unzip_file.ipynb']"
      ]
     },
     "execution_count": 30,
     "metadata": {},
     "output_type": "execute_result"
    }
   ],
   "source": [
    "os.listdir(\"C:\\\\Users\\\\faculty pc\\\\rupali\")"
   ]
  },
  {
   "cell_type": "code",
   "execution_count": 31,
   "id": "b7afc8cb-ef81-4fa2-9c05-35b7be9c9b03",
   "metadata": {},
   "outputs": [
    {
     "data": {
      "text/plain": [
       "'C:\\\\Users\\\\faculty pc\\\\rupali'"
      ]
     },
     "execution_count": 31,
     "metadata": {},
     "output_type": "execute_result"
    }
   ],
   "source": [
    "os.getcwd()"
   ]
  },
  {
   "cell_type": "code",
   "execution_count": null,
   "id": "3d91ca74-2466-4f00-b8a5-f535c263125e",
   "metadata": {},
   "outputs": [],
   "source": []
  }
 ],
 "metadata": {
  "kernelspec": {
   "display_name": "Python 3 (ipykernel)",
   "language": "python",
   "name": "python3"
  },
  "language_info": {
   "codemirror_mode": {
    "name": "ipython",
    "version": 3
   },
   "file_extension": ".py",
   "mimetype": "text/x-python",
   "name": "python",
   "nbconvert_exporter": "python",
   "pygments_lexer": "ipython3",
   "version": "3.11.7"
  }
 },
 "nbformat": 4,
 "nbformat_minor": 5
}
