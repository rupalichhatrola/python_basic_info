{
 "cells": [
  {
   "cell_type": "markdown",
   "id": "a82413e8",
   "metadata": {},
   "source": [
    "What is Python ?\n",
    "\n",
    "Python is a popular programming language. It was created by Guido van Rossum, and released in 1991.\n",
    "\n",
    "It is used for:\n",
    "\n",
    "web development (server-side),\n",
    "software development,\n",
    "mathematics,\n",
    "system scripting.\n",
    "\n",
    "What can Python do?\n",
    "\n",
    "Python can be used on a server to create web applications.\n",
    "Python can be used alongside software to create workflows.\n",
    "Python can connect to database systems. It can also read and modify files.\n",
    "Python can be used to handle big data and perform complex mathematics.\n",
    "Python can be used for rapid prototyping, or for production-ready software development."
   ]
  },
  {
   "cell_type": "code",
   "execution_count": 1,
   "id": "50956960",
   "metadata": {},
   "outputs": [
    {
     "name": "stdout",
     "output_type": "stream",
     "text": [
      "Rupali\n"
     ]
    }
   ],
   "source": [
    "print(\"Rupali\")"
   ]
  },
  {
   "cell_type": "code",
   "execution_count": 2,
   "id": "10d84c35",
   "metadata": {},
   "outputs": [],
   "source": [
    "a=\"Rupali\""
   ]
  },
  {
   "cell_type": "code",
   "execution_count": 3,
   "id": "9b104aec",
   "metadata": {},
   "outputs": [
    {
     "name": "stdout",
     "output_type": "stream",
     "text": [
      "Rupali\n"
     ]
    }
   ],
   "source": [
    "print(a)"
   ]
  },
  {
   "cell_type": "code",
   "execution_count": 5,
   "id": "b216f6d0",
   "metadata": {},
   "outputs": [
    {
     "data": {
      "text/plain": [
       "'R'"
      ]
     },
     "execution_count": 5,
     "metadata": {},
     "output_type": "execute_result"
    }
   ],
   "source": [
    "a[0]"
   ]
  },
  {
   "cell_type": "code",
   "execution_count": 6,
   "id": "1f981d2e",
   "metadata": {},
   "outputs": [
    {
     "data": {
      "text/plain": [
       "'u'"
      ]
     },
     "execution_count": 6,
     "metadata": {},
     "output_type": "execute_result"
    }
   ],
   "source": [
    "a[1]"
   ]
  },
  {
   "cell_type": "code",
   "execution_count": 7,
   "id": "021ebec8",
   "metadata": {},
   "outputs": [
    {
     "data": {
      "text/plain": [
       "'i'"
      ]
     },
     "execution_count": 7,
     "metadata": {},
     "output_type": "execute_result"
    }
   ],
   "source": [
    "a[5]"
   ]
  },
  {
   "cell_type": "code",
   "execution_count": 8,
   "id": "7a99f59f",
   "metadata": {},
   "outputs": [
    {
     "data": {
      "text/plain": [
       "'Rupa'"
      ]
     },
     "execution_count": 8,
     "metadata": {},
     "output_type": "execute_result"
    }
   ],
   "source": [
    "a[0:4]"
   ]
  },
  {
   "cell_type": "code",
   "execution_count": 9,
   "id": "ba394ba2",
   "metadata": {},
   "outputs": [
    {
     "data": {
      "text/plain": [
       "'Rupali'"
      ]
     },
     "execution_count": 9,
     "metadata": {},
     "output_type": "execute_result"
    }
   ],
   "source": [
    "a"
   ]
  },
  {
   "cell_type": "code",
   "execution_count": 10,
   "id": "e7d1f05b",
   "metadata": {},
   "outputs": [
    {
     "data": {
      "text/plain": [
       "'Rupa'"
      ]
     },
     "execution_count": 10,
     "metadata": {},
     "output_type": "execute_result"
    }
   ],
   "source": [
    "a[0:-2]"
   ]
  },
  {
   "cell_type": "code",
   "execution_count": 11,
   "id": "f36c27d2",
   "metadata": {},
   "outputs": [
    {
     "data": {
      "text/plain": [
       "'Rupali'"
      ]
     },
     "execution_count": 11,
     "metadata": {},
     "output_type": "execute_result"
    }
   ],
   "source": [
    "a"
   ]
  },
  {
   "cell_type": "code",
   "execution_count": 12,
   "id": "ffa1355f",
   "metadata": {},
   "outputs": [
    {
     "data": {
      "text/plain": [
       "'ilapuR'"
      ]
     },
     "execution_count": 12,
     "metadata": {},
     "output_type": "execute_result"
    }
   ],
   "source": [
    "a[::-1]"
   ]
  },
  {
   "cell_type": "markdown",
   "id": "dc7aea88",
   "metadata": {},
   "source": [
    "Python If Statement\n",
    "\n",
    "The if statement is the most simple decision-making statement. It is used to decide whether a certain statement or block of statements will be executed or not."
   ]
  },
  {
   "cell_type": "code",
   "execution_count": 16,
   "id": "7bd85143",
   "metadata": {},
   "outputs": [],
   "source": [
    "a=5"
   ]
  },
  {
   "cell_type": "code",
   "execution_count": 17,
   "id": "5e6552f9",
   "metadata": {},
   "outputs": [
    {
     "data": {
      "text/plain": [
       "5"
      ]
     },
     "execution_count": 17,
     "metadata": {},
     "output_type": "execute_result"
    }
   ],
   "source": [
    "a"
   ]
  },
  {
   "cell_type": "code",
   "execution_count": 18,
   "id": "84aa6d2b",
   "metadata": {},
   "outputs": [
    {
     "name": "stdout",
     "output_type": "stream",
     "text": [
      "5\n"
     ]
    }
   ],
   "source": [
    "if a < 10:\n",
    "    print(a)"
   ]
  },
  {
   "cell_type": "code",
   "execution_count": 19,
   "id": "1a261f62",
   "metadata": {},
   "outputs": [
    {
     "name": "stdout",
     "output_type": "stream",
     "text": [
      "Enter the value of a : 8\n"
     ]
    }
   ],
   "source": [
    "a=int(input(\"Enter the value of a : \"))"
   ]
  },
  {
   "cell_type": "code",
   "execution_count": 22,
   "id": "0b152155",
   "metadata": {},
   "outputs": [
    {
     "name": "stdout",
     "output_type": "stream",
     "text": [
      "Enter the value of a : 4\n",
      "a =  4\n"
     ]
    }
   ],
   "source": [
    "a=int(input(\"Enter the value of a : \"))\n",
    "print(\"a = \",a)"
   ]
  },
  {
   "cell_type": "code",
   "execution_count": 23,
   "id": "3e267aa2",
   "metadata": {},
   "outputs": [
    {
     "name": "stdout",
     "output_type": "stream",
     "text": [
      "4\n"
     ]
    }
   ],
   "source": [
    "if a < 7:\n",
    "    print(a)\n",
    "else:\n",
    "    print(\"nan\")"
   ]
  },
  {
   "cell_type": "code",
   "execution_count": 24,
   "id": "25d478d1",
   "metadata": {},
   "outputs": [
    {
     "name": "stdout",
     "output_type": "stream",
     "text": [
      "my name is Rupali\n"
     ]
    }
   ],
   "source": [
    "if a < 15 :\n",
    "    print(\"my name is Rupali\")"
   ]
  },
  {
   "cell_type": "code",
   "execution_count": 25,
   "id": "e8400b98",
   "metadata": {},
   "outputs": [],
   "source": [
    "if 24 < 15 :\n",
    "    print(\"my name is Rupali\")"
   ]
  },
  {
   "cell_type": "code",
   "execution_count": 26,
   "id": "368e80dd",
   "metadata": {},
   "outputs": [
    {
     "data": {
      "text/plain": [
       "False"
      ]
     },
     "execution_count": 26,
     "metadata": {},
     "output_type": "execute_result"
    }
   ],
   "source": [
    "24 < 15"
   ]
  },
  {
   "cell_type": "markdown",
   "id": "aa34ff8d-f889-48dc-8625-0f20a8b3cefb",
   "metadata": {},
   "source": [
    "#if else examples"
   ]
  },
  {
   "cell_type": "code",
   "execution_count": 27,
   "id": "9f35a4f8",
   "metadata": {},
   "outputs": [
    {
     "name": "stdout",
     "output_type": "stream",
     "text": [
      "if statemnt is wrong \n"
     ]
    }
   ],
   "source": [
    "if 11<10 :\n",
    "    print(\" 10 is lesser then 3 \")\n",
    "else :\n",
    "    print(\"if statemnt is wrong \")"
   ]
  },
  {
   "cell_type": "code",
   "execution_count": 28,
   "id": "d09e4f3d",
   "metadata": {},
   "outputs": [
    {
     "name": "stdout",
     "output_type": "stream",
     "text": [
      "50\n",
      "i will be able to buy car \n"
     ]
    }
   ],
   "source": [
    "income = int(input())\n",
    "if income < 50:\n",
    "    print(\"i will be able to buy phone\")\n",
    "elif income < 70 :\n",
    "    print(\"i will be able to buy car \")\n",
    "elif  income < 90 :\n",
    "    print(\"i will be able to rent a house \")\n",
    "else :\n",
    "    print(\"i wont be able to buy anything\")"
   ]
  },
  {
   "cell_type": "code",
   "execution_count": 31,
   "id": "a2c28ee5",
   "metadata": {},
   "outputs": [
    {
     "name": "stdout",
     "output_type": "stream",
     "text": [
      "1000\n",
      "Discount will be  50.0\n"
     ]
    }
   ],
   "source": [
    "total_income = int(input())\n",
    "\n",
    "if total_income  > 20000 :\n",
    "    discount = total_income * .20\n",
    "    print(\"Discount will be \" , discount)\n",
    "elif total_income <= 7000 :\n",
    "    discount = total_income *.05\n",
    "    print(\"Discount will be \" , discount)\n",
    "else :\n",
    "    print( \"wont be able to give any discount \")"
   ]
  },
  {
   "cell_type": "code",
   "execution_count": 33,
   "id": "79544cb1",
   "metadata": {},
   "outputs": [
    {
     "name": "stdout",
     "output_type": "stream",
     "text": [
      "5\n",
      " it will take 3 month of time for transition \n"
     ]
    }
   ],
   "source": [
    "study_hour = int(input())\n",
    "if study_hour < 1:\n",
    "    print(\"it may take  8- 9 month of time to make a transition \")\n",
    "elif study_hour < 4 and  study_hour > 1:\n",
    "    print(\"it may take 6 month for transition\")\n",
    "elif study_hour < 10 :\n",
    "    print(\" it will take 3 month of time for transition \")\n",
    "else :\n",
    "    print(\"it will be difficult \")"
   ]
  },
  {
   "cell_type": "code",
   "execution_count": 34,
   "id": "63051280",
   "metadata": {},
   "outputs": [
    {
     "name": "stdout",
     "output_type": "stream",
     "text": [
      "valid\n"
     ]
    }
   ],
   "source": [
    "a = 9 \n",
    "if a == 9 : \n",
    "    print(\"valid\")"
   ]
  },
  {
   "cell_type": "code",
   "execution_count": 35,
   "id": "b5530cf8",
   "metadata": {},
   "outputs": [
    {
     "name": "stdout",
     "output_type": "stream",
     "text": [
      "Enter the value of a :  1\n",
      "1 is a positive number\n"
     ]
    }
   ],
   "source": [
    "'''this programm for positive and negative of a input number'''\n",
    "a = int(input(\"Enter the value of a :  \"))\n",
    "if a > 0:\n",
    "    print(a, \"is a positive number\")\n",
    "elif a == 0:\n",
    "    print(a, \"is going to be zero\")\n",
    "else:\n",
    "    print(a, \" is a negative number\")"
   ]
  },
  {
   "cell_type": "code",
   "execution_count": 36,
   "id": "12297347",
   "metadata": {},
   "outputs": [
    {
     "name": "stdout",
     "output_type": "stream",
     "text": [
      "Enter a number: 0\n",
      "Zero\n"
     ]
    }
   ],
   "source": [
    "num = float(input(\"Enter a number: \"))\n",
    "if num >= 0:\n",
    "    if num == 0:\n",
    "        print(\"Zero\")\n",
    "    else:\n",
    "        print(\"Positive number\")\n",
    "else:\n",
    "    print(\"Negative number\")"
   ]
  },
  {
   "cell_type": "code",
   "execution_count": 37,
   "id": "7ce30c63",
   "metadata": {},
   "outputs": [],
   "source": [
    "a = .9"
   ]
  },
  {
   "cell_type": "code",
   "execution_count": 38,
   "id": "eec20ef1",
   "metadata": {},
   "outputs": [
    {
     "data": {
      "text/plain": [
       "float"
      ]
     },
     "execution_count": 38,
     "metadata": {},
     "output_type": "execute_result"
    }
   ],
   "source": [
    "type(a)"
   ]
  },
  {
   "cell_type": "code",
   "execution_count": 39,
   "id": "3e232f80",
   "metadata": {},
   "outputs": [],
   "source": [
    "a=3"
   ]
  },
  {
   "cell_type": "code",
   "execution_count": 40,
   "id": "347f4c57",
   "metadata": {},
   "outputs": [
    {
     "data": {
      "text/plain": [
       "int"
      ]
     },
     "execution_count": 40,
     "metadata": {},
     "output_type": "execute_result"
    }
   ],
   "source": [
    "type(a)"
   ]
  },
  {
   "cell_type": "code",
   "execution_count": 41,
   "id": "209188fb",
   "metadata": {},
   "outputs": [],
   "source": [
    "g=4+4j"
   ]
  },
  {
   "cell_type": "code",
   "execution_count": 43,
   "id": "1edc5385",
   "metadata": {},
   "outputs": [
    {
     "data": {
      "text/plain": [
       "complex"
      ]
     },
     "execution_count": 43,
     "metadata": {},
     "output_type": "execute_result"
    }
   ],
   "source": [
    "type(g)"
   ]
  },
  {
   "cell_type": "code",
   "execution_count": 44,
   "id": "92ec3a20",
   "metadata": {},
   "outputs": [],
   "source": [
    "s = \"rupali\""
   ]
  },
  {
   "cell_type": "code",
   "execution_count": 45,
   "id": "f7962c17",
   "metadata": {},
   "outputs": [
    {
     "data": {
      "text/plain": [
       "str"
      ]
     },
     "execution_count": 45,
     "metadata": {},
     "output_type": "execute_result"
    }
   ],
   "source": [
    "type(s)"
   ]
  },
  {
   "cell_type": "code",
   "execution_count": 1,
   "id": "6cf900ab",
   "metadata": {},
   "outputs": [
    {
     "name": "stdin",
     "output_type": "stream",
     "text": [
      "Enter string: bfjd\n",
      "Enter string: dd\n"
     ]
    },
    {
     "name": "stdout",
     "output_type": "stream",
     "text": [
      "a is greater\n"
     ]
    }
   ],
   "source": [
    "#FIND THE GREATEST LENGTH OF THE STRING\n",
    "a = input(\"Enter string:\")\n",
    "b = input(\"Enter string:\")\n",
    "if len(a)>len(b):\n",
    "    print(\"a is greater\")\n",
    "else:\n",
    "    print(\"b is not greater\")\n"
   ]
  },
  {
   "cell_type": "code",
   "execution_count": 6,
   "id": "1b93da68-9f7e-4272-8917-cb1b94033c20",
   "metadata": {},
   "outputs": [
    {
     "name": "stdin",
     "output_type": "stream",
     "text": [
      "Enter Number: 8\n",
      "Enter Number: 3\n"
     ]
    },
    {
     "name": "stdout",
     "output_type": "stream",
     "text": [
      "num2 3\n"
     ]
    }
   ],
   "source": [
    "#FIND THE SMALLER NUMBER\n",
    "num1 = input(\"Enter Number:\")\n",
    "num2 = input(\"Enter Number:\")\n",
    "if num1<num2:\n",
    "    print(\"num1\",num1)\n",
    "else:        \n",
    "    print(\"num2\",num2)\n"
   ]
  },
  {
   "cell_type": "code",
   "execution_count": 3,
   "id": "5c25aeae-90f4-407b-975d-609a0fb6e98c",
   "metadata": {},
   "outputs": [
    {
     "name": "stdin",
     "output_type": "stream",
     "text": [
      "Enter Number :  4\n"
     ]
    },
    {
     "name": "stdout",
     "output_type": "stream",
     "text": [
      "Number is positive: 4\n"
     ]
    }
   ],
   "source": [
    "#Find the number is positive or not\n",
    "n = int(input(\"Enter Number : \"))\n",
    "if n>0:\n",
    "    print(\"Number is positive:\",n)\n",
    "else:\n",
    "    print(\"Number is negetive:\",n)\n"
   ]
  },
  {
   "cell_type": "code",
   "execution_count": 4,
   "id": "1db59467-a9ee-4e0e-9816-1446a4180830",
   "metadata": {},
   "outputs": [
    {
     "name": "stdin",
     "output_type": "stream",
     "text": [
      "Enter number: 5\n"
     ]
    },
    {
     "name": "stdout",
     "output_type": "stream",
     "text": [
      "Not divisible by 3\n"
     ]
    }
   ],
   "source": [
    "#number is divisible by 3 or not \n",
    "num = int(input(\"Enter number:\"))\n",
    "if num % 3 == 0:\n",
    "    print(\"Divisible by 3\")\n",
    "else:\n",
    "    print(\"Not divisible by 3\")\n"
   ]
  },
  {
   "cell_type": "code",
   "execution_count": 5,
   "id": "039e0777-051e-42f1-bd90-988059b23dc7",
   "metadata": {},
   "outputs": [
    {
     "name": "stdin",
     "output_type": "stream",
     "text": [
      "Enter Number 5\n"
     ]
    },
    {
     "name": "stdout",
     "output_type": "stream",
     "text": [
      "Divisible by 5\n"
     ]
    }
   ],
   "source": [
    "#number is divisible by 3 and also 5, only 3 ,only 5, 3 or 5\n",
    "num = int(input(\"Enter Number\"))\n",
    "if num % 3==0:\n",
    "    if num%5==0:\n",
    "        print(\"Divisible by both\")\n",
    "    else:\n",
    "        print(\"Divisible by 3\")\n",
    "else:\n",
    "    if num % 5==0:\n",
    "        print(\"Divisible by 5\")\n",
    "    else:\n",
    "        print(\"Not Divisible\")\n"
   ]
  },
  {
   "cell_type": "code",
   "execution_count": 6,
   "id": "cde2e88d-7b7f-4356-88be-92860d52aea6",
   "metadata": {},
   "outputs": [
    {
     "name": "stdin",
     "output_type": "stream",
     "text": [
      "Enter Number 5\n"
     ]
    },
    {
     "name": "stdout",
     "output_type": "stream",
     "text": [
      "ODD number\n"
     ]
    }
   ],
   "source": [
    "#find num is even or odd\n",
    "num = int(input(\"Enter Number\"))\n",
    "if num % 2==0:\n",
    "    print(\"EVEN number\")\n",
    "else:\n",
    "    print(\"ODD number\")\n"
   ]
  },
  {
   "cell_type": "code",
   "execution_count": 7,
   "id": "cffaa94f-eaee-4b96-aaca-d0f0306e3ec7",
   "metadata": {},
   "outputs": [
    {
     "name": "stdin",
     "output_type": "stream",
     "text": [
      "Enter String: hkj\n",
      "Enter String: hjg\n"
     ]
    },
    {
     "name": "stdout",
     "output_type": "stream",
     "text": [
      " 1st letter SAME\n"
     ]
    }
   ],
   "source": [
    "# find 1st letter of the string is same or not\n",
    "a=str(input(\"Enter String:\"))\n",
    "b=str(input(\"Enter String:\"))\n",
    "if a[0]==b[0]:\n",
    "    print(\" 1st letter SAME\")\n",
    "else:\n",
    "    print(\"NOT SAME\")\n"
   ]
  },
  {
   "cell_type": "code",
   "execution_count": 8,
   "id": "4c045814-4b76-4ca9-bbd2-e847b2dc46d7",
   "metadata": {},
   "outputs": [
    {
     "name": "stdin",
     "output_type": "stream",
     "text": [
      "Enter Mark of Data_Structure: 78\n",
      "Enter Mark of Networks: 98\n",
      "Enter Mark of Hacking: 68\n"
     ]
    },
    {
     "name": "stdout",
     "output_type": "stream",
     "text": [
      "Total Marks: 244\n",
      "Percentage: 81.33333333333333\n",
      "Distinction\n"
     ]
    }
   ],
   "source": [
    "#find the student class according to their marks (Here there are multiple condition that's why used elif)\n",
    "Data_Structure=int(input(\"Enter Mark of Data_Structure:\"))\n",
    "Networks=int(input(\"Enter Mark of Networks:\"))\n",
    "Hacking=int(input(\"Enter Mark of Hacking:\"))\n",
    "Total=Data_Structure+Networks+Hacking\n",
    "per=(Total/300)*100\n",
    "print(\"Total Marks:\",Total)\n",
    "print(\"Percentage:\",per)\n",
    "if per<50:\n",
    "    print(\"Fail\")\n",
    "elif per<70:\n",
    "    print(\"Third Class\")\n",
    "elif per< 80:\n",
    "    print(\"Second Class\")\n",
    "else:\n",
    "    print(\"Distinction\")\n"
   ]
  },
  {
   "cell_type": "code",
   "execution_count": 9,
   "id": "86ad7a6d-37f6-4d90-90ee-6ba54b4db47b",
   "metadata": {},
   "outputs": [
    {
     "name": "stdin",
     "output_type": "stream",
     "text": [
      "Enter Alphabate: a\n"
     ]
    },
    {
     "name": "stdout",
     "output_type": "stream",
     "text": [
      "It is a Vowel\n"
     ]
    }
   ],
   "source": [
    "#to check alphabate is  vowel or constant\n",
    "a=input(\"Enter Alphabate:\")\n",
    "if a in (\"a\",\"e\",\"i\",\"o\",\"u\"):\n",
    "    print(\"It is a Vowel\")\n",
    "elif a in(\"A\",\"E\",\"I\",\"O\",\"U\"):\n",
    "     print(\"It is a Vowel\")\n",
    "else:\n",
    "    print(\"It is a Constant\")\n"
   ]
  },
  {
   "cell_type": "code",
   "execution_count": 10,
   "id": "1d90f53a-f21e-4bc1-92e3-104db9cc9a26",
   "metadata": {},
   "outputs": [
    {
     "name": "stdin",
     "output_type": "stream",
     "text": [
      "Enter the value in fahrenheit: 5\n"
     ]
    },
    {
     "name": "stdout",
     "output_type": "stream",
     "text": [
      "Celsius: -15.0\n"
     ]
    }
   ],
   "source": [
    "#Fahrenheit to Celsius \n",
    "F = float(input(\"Enter the value in fahrenheit:\"))\n",
    "c= (F-32)*5/9\n",
    "print(\"Celsius:\",c)\n"
   ]
  },
  {
   "cell_type": "code",
   "execution_count": 11,
   "id": "59e93bf7-740d-452e-b192-56aaab349639",
   "metadata": {},
   "outputs": [
    {
     "name": "stdin",
     "output_type": "stream",
     "text": [
      "Enter the value in celsius: 56\n"
     ]
    },
    {
     "name": "stdout",
     "output_type": "stream",
     "text": [
      "Fahrenheit 132.8\n"
     ]
    }
   ],
   "source": [
    "#Celsius to Fahrenheit\n",
    "c = float(input(\"Enter the value in celsius:\"))\n",
    "F = c * (9/5) + 32\n",
    "print(\"Fahrenheit\",F)"
   ]
  },
  {
   "cell_type": "code",
   "execution_count": 12,
   "id": "9ab82a15-84fd-4a7d-b571-d7cb258f0aa1",
   "metadata": {},
   "outputs": [
    {
     "name": "stdin",
     "output_type": "stream",
     "text": [
      "Enter Date: 4\n",
      "Enter Month: 3\n",
      "Enter Year 2000\n"
     ]
    },
    {
     "name": "stdout",
     "output_type": "stream",
     "text": [
      "Birth Date: 3 4 , 2000\n",
      "Leo\n"
     ]
    }
   ],
   "source": [
    "#to diaplay astrological sign to given date of birth \n",
    "Date=int(input(\"Enter Date:\"))\n",
    "Month =input(\"Enter Month:\")\n",
    "Year=int(input(\"Enter Year\"))\n",
    "print(\"Birth Date:\",Month,Date,',',Year)\n",
    "if Month in ('March 21 to April 19'):\n",
    "    print(\"Aries\")\n",
    "elif Month in ('April 20 to May 20'):\n",
    "    print(\"Taurus\")\n",
    "elif Month in ('May 21 to June 20'):\n",
    "    print(\"Gemini\")\n",
    "elif Month in ('June 21 to july 22'):\n",
    "    print(\"Cancer\")    \n",
    "elif Month in ('July 23 to August 22'):\n",
    "    print(\"Leo\")\n",
    "elif Month in ('August 23 to September 22'):\n",
    "    print(\"Virgo\")\n",
    "elif Month in ('September 23 to October 22'):\n",
    "    print(\"Libra\")\n",
    "elif Month in ('October 23 to November 21'):\n",
    "    print(\"Scorpio\")    \n",
    "elif Month in ('November 22 to December 21'):\n",
    "    print(\"Sagittarius\")\n",
    "elif Month in ('December 22 to January 19'):\n",
    "    print(\"Capricorn\")\n",
    "elif Month in ('January 20 to Feb 18'):\n",
    "    print(\"Aquarius\") \n",
    "elif Month in ('Feb 19 to March 20'):\n",
    "    print(\"Pisces\")    \n",
    "else:\n",
    "    print(\"Not Valid\") \n"
   ]
  },
  {
   "cell_type": "code",
   "execution_count": 7,
   "id": "0c4b9a31-6e2c-4caf-93fb-e00f5e0e402a",
   "metadata": {},
   "outputs": [
    {
     "name": "stdin",
     "output_type": "stream",
     "text": [
      "Enter Weight in kg: 50\n",
      "Enter height in cm: 123\n"
     ]
    },
    {
     "name": "stdout",
     "output_type": "stream",
     "text": [
      "BMI: 0.003304911097891467\n",
      "You are underweight\n"
     ]
    }
   ],
   "source": [
    "#BMI(weight (kg) / [height (cm)]2  (height/100)**2) )\n",
    "Weight = float(input(\"Enter Weight in kg:\"))\n",
    "height = float(input(\"Enter height in cm:\"))\n",
    "\n",
    "BMI = Weight/(height*height) \n",
    "\n",
    "print(\"BMI:\",BMI)\n",
    "\n",
    "if BMI < 18.5:\n",
    "    print(\"You are underweight\")\n",
    "elif BMI > 18.5 and BMI < 24.9:\n",
    "    print(\"You are healthy\")\n",
    "elif BMI > 24.9 and BMI < 29.9:\n",
    "    print(\"You are an over weight\")\n",
    "else:\n",
    "    print(\"You are obese.\")\n"
   ]
  },
  {
   "cell_type": "code",
   "execution_count": 14,
   "id": "d06515a1-a0da-4018-947c-87a2d7478316",
   "metadata": {},
   "outputs": [
    {
     "name": "stdin",
     "output_type": "stream",
     "text": [
      "Enter month name: march\n"
     ]
    },
    {
     "name": "stdout",
     "output_type": "stream",
     "text": [
      "None\n"
     ]
    }
   ],
   "source": [
    "#find which month has 30/31/28 days\n",
    "Month = str(input(\"Enter month name:\"))\n",
    "if Month in (\"January\",\"March\",\"May\",\"July\",\"August\",\"October\",\"December\"):\n",
    "    print(\"31 days\")\n",
    "elif Month in(\"April\",\"June\",\"September\",\"November\"):\n",
    "    print(\"30 days\")\n",
    "elif Month ==\"February\":\n",
    "    print(\"28 days\")\n",
    "else:\n",
    "    print(\"None\")"
   ]
  },
  {
   "cell_type": "code",
   "execution_count": 15,
   "id": "edd06cbc-fb7d-4e50-b0ab-4edfdf2f2bff",
   "metadata": {},
   "outputs": [
    {
     "name": "stdin",
     "output_type": "stream",
     "text": [
      "Enter Number: 400\n"
     ]
    },
    {
     "name": "stdout",
     "output_type": "stream",
     "text": [
      "Number is between 300 to 400\n"
     ]
    }
   ],
   "source": [
    "Num=int(input(\"Enter Number:\"))\n",
    "if Num<=100:\n",
    "    print(\"Number is between 1 to 100\")\n",
    "elif Num>=100 and Num<=200:\n",
    "    print(\"Number is between 100 to 200\")\n",
    "elif Num<=300:\n",
    "    print(\"Number is between 200 to 300\")   \n",
    "elif Num<=400:\n",
    "    print(\"Number is between 300 to 400\")\n",
    "elif Num<=500:\n",
    "    print(\"Number is between 400 to 500\")\n",
    "elif Num<=600:\n",
    "    print(\"Number is between 500 to 600\")\n",
    "elif Num<=700:\n",
    "    print(\"Number is between 600 to 700\")\n",
    "elif Num<=800:\n",
    "    print(\"Number is between 700 to 800\")  \n",
    "elif Num<=900:\n",
    "    print(\"Number is between 800 to 900\")    \n",
    "elif Num<=1000:\n",
    "    print(\"Number is between 900 to 1000\")\n",
    "else:\n",
    "    print(\"Out of range\")\n"
   ]
  },
  {
   "cell_type": "code",
   "execution_count": 16,
   "id": "3c823d51-9d93-4a98-9750-c593854221ae",
   "metadata": {},
   "outputs": [
    {
     "name": "stdin",
     "output_type": "stream",
     "text": [
      "Enter your birth Year: 1992\n"
     ]
    },
    {
     "name": "stdout",
     "output_type": "stream",
     "text": [
      "MONKEY\n"
     ]
    }
   ],
   "source": [
    "#to diaplay sign of the chinese zodic for given year in which you where born\n",
    "Year = int(input(\"Enter your birth Year:\"))\n",
    "if Year % 12 ==0 :\n",
    "    print(\"MONKEY\")\n",
    "elif Year % 12 ==1 :\n",
    "    print(\"ROOSTER\")    \n",
    "elif Year % 12 == 2 :\n",
    "    print(\"DOG\")\n",
    "elif Year % 12 == 3 :\n",
    "    print(\"PIG\")\n",
    "elif Year % 12 == 4:\n",
    "    print(\"RAT\")\n",
    "elif Year % 12 == 5:\n",
    "    print(\"OX\")\n",
    "elif Year % 12 == 6:\n",
    "    print(\"TIGER\")\n",
    "elif Year % 12 == 7:\n",
    "    print(\"RABBIT\")\n",
    "elif Year % 12 == 8:\n",
    "    print(\"DRAGON\")\n",
    "elif Year % 12 == 9:\n",
    "    print(\"SNAKE\") \n",
    "elif Year % 12 == 10:\n",
    "    print(\"HORSE\")    \n",
    "elif Year % 12 ==11 :\n",
    "    print(\"SHEEP\") \n",
    "else:\n",
    "    print(\"Not Found\")\n"
   ]
  },
  {
   "cell_type": "code",
   "execution_count": null,
   "id": "83d4b169-16fb-4a67-bba9-a3810f59d8f3",
   "metadata": {},
   "outputs": [],
   "source": []
  }
 ],
 "metadata": {
  "kernelspec": {
   "display_name": "Python 3 (ipykernel)",
   "language": "python",
   "name": "python3"
  },
  "language_info": {
   "codemirror_mode": {
    "name": "ipython",
    "version": 3
   },
   "file_extension": ".py",
   "mimetype": "text/x-python",
   "name": "python",
   "nbconvert_exporter": "python",
   "pygments_lexer": "ipython3",
   "version": "3.11.7"
  }
 },
 "nbformat": 4,
 "nbformat_minor": 5
}
