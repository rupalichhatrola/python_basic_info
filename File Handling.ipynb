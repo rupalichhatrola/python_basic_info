{
 "cells": [
  {
   "cell_type": "markdown",
   "id": "043d08aa",
   "metadata": {},
   "source": [
    "# File Handling in Python"
   ]
  },
  {
   "cell_type": "markdown",
   "id": "185e5730",
   "metadata": {},
   "source": [
    "File handling in Python is a powerful and versatile tool that can be used to perform a wide range of operations. However, it is important to carefully consider the advantages and disadvantages of file handling when writing Python programs, to ensure that the code is secure, reliable, and performs well.\n",
    "\n",
    "In this article we will explore Python File Handling, Advantages, Disadvantages and How open, write and append functions works in python file.\n",
    "\n",
    "Python File Handling\n",
    "Python supports file handling and allows users to handle files i.e., to read and write files, along with many other file handling options, to operate on files. The concept of file handling has stretched over various other languages, but the implementation is either complicated or lengthy, like other concepts of Python, this concept here is also easy and short. Python treats files differently as text or binary and this is important. Each line of code includes a sequence of characters, and they form a text file. Each line of a file is terminated with a special character, called the EOL or End of Line characters like comma {,} or newline character. It ends the current line and tells the interpreter a new one has begun. Let’s start with the reading and writing files. "
   ]
  },
  {
   "cell_type": "markdown",
   "id": "561957c1",
   "metadata": {},
   "source": [
    "Advantages of File Handling in Python\n",
    "Versatility: File handling in Python allows you to perform a wide range of operations, such as creating, reading, writing, appending, renaming, and deleting files.\n",
    "Flexibility: File handling in Python is highly flexible, as it allows you to work with different file types (e.g. text files, binary files, CSV files, etc.), and to perform different operations on files (e.g. read, write, append, etc.).\n",
    "User–friendly: Python provides a user-friendly interface for file handling, making it easy to create, read, and manipulate files.\n",
    "Cross-platform: Python file-handling functions work across different platforms (e.g. Windows, Mac, Linux), allowing for seamless integration and compatibility."
   ]
  },
  {
   "cell_type": "markdown",
   "id": "c9ecdddb",
   "metadata": {},
   "source": [
    "Disadvantages of File Handling in Python\n",
    "Error-prone: File handling operations in Python can be prone to errors, especially if the code is not carefully written or if there are issues with the file system (e.g. file permissions, file locks, etc.).\n",
    "Security risks: File handling in Python can also pose security risks, especially if the program accepts user input that can be used to access or modify sensitive files on the system.\n",
    "Complexity: File handling in Python can be complex, especially when working with more advanced file formats or operations. Careful attention must be paid to the code to ensure that files are handled properly and securely.\n",
    "Performance: File handling operations in Python can be slower than other programming languages, especially when dealing with large files or performing complex operations."
   ]
  },
  {
   "cell_type": "markdown",
   "id": "8c028f96",
   "metadata": {},
   "source": [
    "# f = open(filename, mode)"
   ]
  },
  {
   "cell_type": "markdown",
   "id": "2b65f674",
   "metadata": {},
   "source": [
    "Where the following mode is supported:\n",
    "\n",
    "r: open an existing file for a read operation.\n",
    "\n",
    "w: open an existing file for a write operation. If the file already contains some data, then it will be overridden but if the file is not present then it creates the file as well.\n",
    "\n",
    "a:  open an existing file for append operation. It won’t override existing data.\n",
    "\n",
    "r+:  To read and write data into the file. The previous data in the file will be overridden.\n",
    "\n",
    "w+: To write and read data. It will override existing data.\n",
    "\n",
    "a+: To append and read data from the file. It won’t override existing data.\n"
   ]
  },
  {
   "cell_type": "code",
   "execution_count": null,
   "id": "7018c522",
   "metadata": {},
   "outputs": [],
   "source": [
    "Working in Read mode"
   ]
  },
  {
   "cell_type": "code",
   "execution_count": 1,
   "id": "4da48951",
   "metadata": {},
   "outputs": [],
   "source": [
    "# a file named \"geek\", will be opened with the reading mode.\n",
    "file = open('geek.txt', 'w')\n",
    "\n",
    "\n"
   ]
  },
  {
   "cell_type": "markdown",
   "id": "37774095",
   "metadata": {},
   "source": [
    "# Creating a File using the write() Function"
   ]
  },
  {
   "cell_type": "code",
   "execution_count": 2,
   "id": "daf08d6d",
   "metadata": {},
   "outputs": [],
   "source": [
    "# Python code to create a file\n",
    "file = open('geek.txt','w')\n",
    "file.write(\"This is the write command\")\n",
    "file.write(\"It allows us to write in a particular file\")\n",
    "file.close()\n"
   ]
  },
  {
   "cell_type": "code",
   "execution_count": 3,
   "id": "289ec529",
   "metadata": {},
   "outputs": [],
   "source": [
    "# Python code to illustrate with() alongwith write()\n",
    "with open(\"file.txt\", \"w\") as f: \n",
    "\tf.write(\"Hello World!!!\")\n"
   ]
  },
  {
   "cell_type": "markdown",
   "id": "8663cb45",
   "metadata": {},
   "source": [
    "# Working of Append Mode"
   ]
  },
  {
   "cell_type": "code",
   "execution_count": 4,
   "id": "9dbfd605",
   "metadata": {},
   "outputs": [],
   "source": [
    "# Python code to illustrate append() mode\n",
    "file = open('geek.txt', 'a')\n",
    "file.write(\"This will add this line\")\n",
    "file.close()\n"
   ]
  },
  {
   "cell_type": "markdown",
   "id": "78c648b2",
   "metadata": {},
   "source": [
    "# rstrip(): This function strips each line of a file off spaces from the right-hand side.\n"
   ]
  },
  {
   "cell_type": "markdown",
   "id": "23eb128d",
   "metadata": {},
   "source": [
    "# lstrip(): This function strips each line of a file off spaces from the left-hand side."
   ]
  }
 ],
 "metadata": {
  "kernelspec": {
   "display_name": "Python 3 (ipykernel)",
   "language": "python",
   "name": "python3"
  },
  "language_info": {
   "codemirror_mode": {
    "name": "ipython",
    "version": 3
   },
   "file_extension": ".py",
   "mimetype": "text/x-python",
   "name": "python",
   "nbconvert_exporter": "python",
   "pygments_lexer": "ipython3",
   "version": "3.11.7"
  }
 },
 "nbformat": 4,
 "nbformat_minor": 5
}
