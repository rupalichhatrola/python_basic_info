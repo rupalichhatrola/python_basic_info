{
 "cells": [
  {
   "cell_type": "markdown",
   "id": "33338966",
   "metadata": {},
   "source": [
    "# List, Tuple, Dictionary, Sets"
   ]
  },
  {
   "cell_type": "markdown",
   "id": "b439c987",
   "metadata": {},
   "source": [
    "# List"
   ]
  },
  {
   "cell_type": "markdown",
   "id": "66aba0e0",
   "metadata": {},
   "source": [
    "Lists are used to store multiple items in a single variable."
   ]
  },
  {
   "cell_type": "code",
   "execution_count": 1,
   "id": "e41f60ae",
   "metadata": {},
   "outputs": [],
   "source": [
    "l = [1,2,3,4,5]"
   ]
  },
  {
   "cell_type": "code",
   "execution_count": 2,
   "id": "44b298d0",
   "metadata": {},
   "outputs": [
    {
     "name": "stdout",
     "output_type": "stream",
     "text": [
      "[1, 2, 3, 4, 5]\n"
     ]
    }
   ],
   "source": [
    "print(l)"
   ]
  },
  {
   "cell_type": "code",
   "execution_count": 3,
   "id": "2b200158",
   "metadata": {},
   "outputs": [
    {
     "data": {
      "text/plain": [
       "[1, 2, 3, 4, 5]"
      ]
     },
     "execution_count": 3,
     "metadata": {},
     "output_type": "execute_result"
    }
   ],
   "source": [
    "l"
   ]
  },
  {
   "cell_type": "code",
   "execution_count": 4,
   "id": "0937f420",
   "metadata": {},
   "outputs": [
    {
     "data": {
      "text/plain": [
       "list"
      ]
     },
     "execution_count": 4,
     "metadata": {},
     "output_type": "execute_result"
    }
   ],
   "source": [
    "type(l)"
   ]
  },
  {
   "cell_type": "code",
   "execution_count": 5,
   "id": "a1071888",
   "metadata": {},
   "outputs": [
    {
     "data": {
      "text/plain": [
       "1"
      ]
     },
     "execution_count": 5,
     "metadata": {},
     "output_type": "execute_result"
    }
   ],
   "source": [
    "l[0]"
   ]
  },
  {
   "cell_type": "code",
   "execution_count": 6,
   "id": "ab3169f8",
   "metadata": {},
   "outputs": [
    {
     "data": {
      "text/plain": [
       "3"
      ]
     },
     "execution_count": 6,
     "metadata": {},
     "output_type": "execute_result"
    }
   ],
   "source": [
    "l[2]"
   ]
  },
  {
   "cell_type": "code",
   "execution_count": 7,
   "id": "28220171",
   "metadata": {},
   "outputs": [
    {
     "data": {
      "text/plain": [
       "5"
      ]
     },
     "execution_count": 7,
     "metadata": {},
     "output_type": "execute_result"
    }
   ],
   "source": [
    "l[-1]"
   ]
  },
  {
   "cell_type": "code",
   "execution_count": 8,
   "id": "835f22c1",
   "metadata": {},
   "outputs": [
    {
     "data": {
      "text/plain": [
       "[5, 4, 3, 2, 1]"
      ]
     },
     "execution_count": 8,
     "metadata": {},
     "output_type": "execute_result"
    }
   ],
   "source": [
    "l[::-1]"
   ]
  },
  {
   "cell_type": "code",
   "execution_count": 9,
   "id": "43ed9676",
   "metadata": {},
   "outputs": [
    {
     "data": {
      "text/plain": [
       "[1, 2, 3, 4, 5]"
      ]
     },
     "execution_count": 9,
     "metadata": {},
     "output_type": "execute_result"
    }
   ],
   "source": [
    "l"
   ]
  },
  {
   "cell_type": "code",
   "execution_count": 10,
   "id": "84ee2a47",
   "metadata": {},
   "outputs": [
    {
     "data": {
      "text/plain": [
       "[1, 3]"
      ]
     },
     "execution_count": 10,
     "metadata": {},
     "output_type": "execute_result"
    }
   ],
   "source": [
    "l[0:4:2] "
   ]
  },
  {
   "cell_type": "code",
   "execution_count": 11,
   "id": "5255ff9a",
   "metadata": {},
   "outputs": [],
   "source": [
    "l1 = [4,5,6,\"hjj\",\"jij\",9+6j, 8,[4,5,6,\"hg\",\"hujh\",9]]"
   ]
  },
  {
   "cell_type": "code",
   "execution_count": 12,
   "id": "b9a79930",
   "metadata": {},
   "outputs": [
    {
     "data": {
      "text/plain": [
       "5"
      ]
     },
     "execution_count": 12,
     "metadata": {},
     "output_type": "execute_result"
    }
   ],
   "source": [
    "l1[7][1]\n"
   ]
  },
  {
   "cell_type": "code",
   "execution_count": 13,
   "id": "2af7efe7",
   "metadata": {},
   "outputs": [
    {
     "data": {
      "text/plain": [
       "(9+6j)"
      ]
     },
     "execution_count": 13,
     "metadata": {},
     "output_type": "execute_result"
    }
   ],
   "source": [
    "c = 9+6j\n",
    "c"
   ]
  },
  {
   "cell_type": "code",
   "execution_count": 14,
   "id": "259943b5",
   "metadata": {},
   "outputs": [
    {
     "data": {
      "text/plain": [
       "complex"
      ]
     },
     "execution_count": 14,
     "metadata": {},
     "output_type": "execute_result"
    }
   ],
   "source": [
    "type(c)"
   ]
  },
  {
   "cell_type": "code",
   "execution_count": 15,
   "id": "90ba3acd",
   "metadata": {},
   "outputs": [
    {
     "data": {
      "text/plain": [
       "'jij'"
      ]
     },
     "execution_count": 15,
     "metadata": {},
     "output_type": "execute_result"
    }
   ],
   "source": [
    "l1[4]"
   ]
  },
  {
   "cell_type": "code",
   "execution_count": 16,
   "id": "f25f294a",
   "metadata": {},
   "outputs": [
    {
     "data": {
      "text/plain": [
       "'hg'"
      ]
     },
     "execution_count": 16,
     "metadata": {},
     "output_type": "execute_result"
    }
   ],
   "source": [
    "l1[7][3]"
   ]
  },
  {
   "cell_type": "code",
   "execution_count": 17,
   "id": "cfc715d3",
   "metadata": {},
   "outputs": [
    {
     "data": {
      "text/plain": [
       "[4, 5, 6, 'hjj', 'jij', (9+6j), 8]"
      ]
     },
     "execution_count": 17,
     "metadata": {},
     "output_type": "execute_result"
    }
   ],
   "source": [
    "l1[0:7:1]"
   ]
  },
  {
   "cell_type": "code",
   "execution_count": 18,
   "id": "39ca9b37",
   "metadata": {},
   "outputs": [],
   "source": [
    "list2 = [\"kj\",\"jk\",\"jhuj\",[4,5,6,\"jhhg\",\"nkj\"],[\"bhj\",\"hguy\",5,6,[7,8]]]"
   ]
  },
  {
   "cell_type": "code",
   "execution_count": 19,
   "id": "dad3a8d4",
   "metadata": {},
   "outputs": [
    {
     "data": {
      "text/plain": [
       "['kj', 'jk', 'jhuj', [4, 5, 6, 'jhhg', 'nkj'], ['bhj', 'hguy', 5, 6, [7, 8]]]"
      ]
     },
     "execution_count": 19,
     "metadata": {},
     "output_type": "execute_result"
    }
   ],
   "source": [
    "list2"
   ]
  },
  {
   "cell_type": "code",
   "execution_count": 20,
   "id": "d87df0e6",
   "metadata": {},
   "outputs": [
    {
     "data": {
      "text/plain": [
       "7"
      ]
     },
     "execution_count": 20,
     "metadata": {},
     "output_type": "execute_result"
    }
   ],
   "source": [
    "list2[4][4][0]"
   ]
  },
  {
   "cell_type": "code",
   "execution_count": 21,
   "id": "979e842b",
   "metadata": {},
   "outputs": [
    {
     "data": {
      "text/plain": [
       "['bhj', 'hguy', 5, 6, [7, 8]]"
      ]
     },
     "execution_count": 21,
     "metadata": {},
     "output_type": "execute_result"
    }
   ],
   "source": [
    "list2[4]"
   ]
  },
  {
   "cell_type": "code",
   "execution_count": 22,
   "id": "5518fbbc",
   "metadata": {},
   "outputs": [
    {
     "data": {
      "text/plain": [
       "[7, 8]"
      ]
     },
     "execution_count": 22,
     "metadata": {},
     "output_type": "execute_result"
    }
   ],
   "source": [
    "list2[4][4]"
   ]
  },
  {
   "cell_type": "code",
   "execution_count": 23,
   "id": "c2026d28",
   "metadata": {},
   "outputs": [],
   "source": [
    "list3 = range(0,30)"
   ]
  },
  {
   "cell_type": "code",
   "execution_count": 24,
   "id": "aacc04b5",
   "metadata": {},
   "outputs": [
    {
     "data": {
      "text/plain": [
       "range"
      ]
     },
     "execution_count": 24,
     "metadata": {},
     "output_type": "execute_result"
    }
   ],
   "source": [
    "type(list3)"
   ]
  },
  {
   "cell_type": "code",
   "execution_count": 25,
   "id": "2a533569",
   "metadata": {},
   "outputs": [
    {
     "data": {
      "text/plain": [
       "[4, 5, 6, 'hjj', 'jij', (9+6j), 8, [4, 5, 6, 'hg', 'hujh', 9]]"
      ]
     },
     "execution_count": 25,
     "metadata": {},
     "output_type": "execute_result"
    }
   ],
   "source": [
    "l1"
   ]
  },
  {
   "cell_type": "code",
   "execution_count": 26,
   "id": "861012e9",
   "metadata": {},
   "outputs": [],
   "source": [
    "l2 = [4,5,6,\"Rupali\"]"
   ]
  },
  {
   "cell_type": "code",
   "execution_count": 27,
   "id": "f09321d6",
   "metadata": {},
   "outputs": [
    {
     "name": "stdout",
     "output_type": "stream",
     "text": [
      "[4, 5, 6, 'Rupali']\n"
     ]
    }
   ],
   "source": [
    "print(l2)"
   ]
  },
  {
   "cell_type": "code",
   "execution_count": 28,
   "id": "a1d19cdd",
   "metadata": {},
   "outputs": [
    {
     "data": {
      "text/plain": [
       "'Rupali'"
      ]
     },
     "execution_count": 28,
     "metadata": {},
     "output_type": "execute_result"
    }
   ],
   "source": [
    "l2[3]"
   ]
  },
  {
   "cell_type": "code",
   "execution_count": 29,
   "id": "24e83820",
   "metadata": {},
   "outputs": [],
   "source": [
    "l2[3] = \"Chhatrola\""
   ]
  },
  {
   "cell_type": "code",
   "execution_count": 30,
   "id": "0f210900",
   "metadata": {},
   "outputs": [
    {
     "name": "stdout",
     "output_type": "stream",
     "text": [
      "[4, 5, 6, 'Chhatrola']\n"
     ]
    }
   ],
   "source": [
    "print(l2)"
   ]
  },
  {
   "cell_type": "code",
   "execution_count": 31,
   "id": "dbdf70be",
   "metadata": {},
   "outputs": [],
   "source": [
    "l2[0]=9"
   ]
  },
  {
   "cell_type": "code",
   "execution_count": 32,
   "id": "913e3d16",
   "metadata": {},
   "outputs": [
    {
     "data": {
      "text/plain": [
       "[9, 5, 6, 'Chhatrola']"
      ]
     },
     "execution_count": 32,
     "metadata": {},
     "output_type": "execute_result"
    }
   ],
   "source": [
    "l2"
   ]
  },
  {
   "cell_type": "markdown",
   "id": "251cce97",
   "metadata": {},
   "source": [
    "# Sets"
   ]
  },
  {
   "cell_type": "markdown",
   "id": "a45c161b",
   "metadata": {},
   "source": [
    "A set is a collection which is unordered, unchangeable*, and unindexed.\n",
    "\n",
    "* Note: Set items are unchangeable, but you can remove items and add new items.\n",
    "\n",
    "Sets are written with curly brackets."
   ]
  },
  {
   "cell_type": "code",
   "execution_count": 33,
   "id": "92677c68",
   "metadata": {},
   "outputs": [
    {
     "data": {
      "text/plain": [
       "{1, 2, 3, 4, 5, 9, 'gh'}"
      ]
     },
     "execution_count": 33,
     "metadata": {},
     "output_type": "execute_result"
    }
   ],
   "source": [
    "set1 = {1,2,3,4,5,9,\"gh\"}\n",
    "set1"
   ]
  },
  {
   "cell_type": "code",
   "execution_count": 36,
   "id": "8f0008e4",
   "metadata": {},
   "outputs": [],
   "source": [
    "set2 = {5,(2,3)}"
   ]
  },
  {
   "cell_type": "code",
   "execution_count": 37,
   "id": "d658b3f0",
   "metadata": {},
   "outputs": [
    {
     "data": {
      "text/plain": [
       "{(2, 3), 5}"
      ]
     },
     "execution_count": 37,
     "metadata": {},
     "output_type": "execute_result"
    }
   ],
   "source": [
    "set2"
   ]
  },
  {
   "cell_type": "code",
   "execution_count": 38,
   "id": "36f4ea80",
   "metadata": {},
   "outputs": [
    {
     "ename": "TypeError",
     "evalue": "'set' object does not support item assignment",
     "output_type": "error",
     "traceback": [
      "\u001b[1;31m---------------------------------------------------------------------------\u001b[0m",
      "\u001b[1;31mTypeError\u001b[0m                                 Traceback (most recent call last)",
      "Input \u001b[1;32mIn [38]\u001b[0m, in \u001b[0;36m<cell line: 1>\u001b[1;34m()\u001b[0m\n\u001b[1;32m----> 1\u001b[0m set2[\u001b[38;5;241m1\u001b[39m] \u001b[38;5;241m=\u001b[39m \u001b[38;5;241m7\u001b[39m\n",
      "\u001b[1;31mTypeError\u001b[0m: 'set' object does not support item assignment"
     ]
    }
   ],
   "source": [
    "set2[1] = 7"
   ]
  },
  {
   "cell_type": "markdown",
   "id": "d9a7a22b",
   "metadata": {},
   "source": [
    "# Tuple"
   ]
  },
  {
   "cell_type": "markdown",
   "id": "be853809",
   "metadata": {},
   "source": [
    "Tuples are used to store multiple items in a single variable.\n",
    "\n",
    "A tuple is a collection which is ordered and unchangeable.\n",
    "\n",
    "Tuples are written with round brackets."
   ]
  },
  {
   "cell_type": "code",
   "execution_count": 39,
   "id": "4cb6457a",
   "metadata": {},
   "outputs": [],
   "source": [
    " t = (2,3,4,{4,5},9,[5,6,7],\"jki\",\"jh\",{5,6,\"hj\"})"
   ]
  },
  {
   "cell_type": "code",
   "execution_count": 40,
   "id": "c1957c3c",
   "metadata": {},
   "outputs": [
    {
     "data": {
      "text/plain": [
       "9"
      ]
     },
     "execution_count": 40,
     "metadata": {},
     "output_type": "execute_result"
    }
   ],
   "source": [
    "len(t)"
   ]
  },
  {
   "cell_type": "code",
   "execution_count": 41,
   "id": "17647cd7",
   "metadata": {},
   "outputs": [],
   "source": [
    "t1 = [1,2]"
   ]
  },
  {
   "cell_type": "code",
   "execution_count": 42,
   "id": "53629cf1",
   "metadata": {},
   "outputs": [
    {
     "data": {
      "text/plain": [
       "2"
      ]
     },
     "execution_count": 42,
     "metadata": {},
     "output_type": "execute_result"
    }
   ],
   "source": [
    "len(t1)"
   ]
  },
  {
   "cell_type": "code",
   "execution_count": 43,
   "id": "06827ba4",
   "metadata": {},
   "outputs": [
    {
     "data": {
      "text/plain": [
       "{4, 5}"
      ]
     },
     "execution_count": 43,
     "metadata": {},
     "output_type": "execute_result"
    }
   ],
   "source": [
    "t[3]"
   ]
  },
  {
   "cell_type": "code",
   "execution_count": 44,
   "id": "226d3348",
   "metadata": {},
   "outputs": [
    {
     "ename": "TypeError",
     "evalue": "'set' object is not subscriptable",
     "output_type": "error",
     "traceback": [
      "\u001b[1;31m---------------------------------------------------------------------------\u001b[0m",
      "\u001b[1;31mTypeError\u001b[0m                                 Traceback (most recent call last)",
      "Input \u001b[1;32mIn [44]\u001b[0m, in \u001b[0;36m<cell line: 1>\u001b[1;34m()\u001b[0m\n\u001b[1;32m----> 1\u001b[0m \u001b[43mt\u001b[49m\u001b[43m[\u001b[49m\u001b[38;5;241;43m3\u001b[39;49m\u001b[43m]\u001b[49m\u001b[43m[\u001b[49m\u001b[38;5;241;43m0\u001b[39;49m\u001b[43m]\u001b[49m\n",
      "\u001b[1;31mTypeError\u001b[0m: 'set' object is not subscriptable"
     ]
    }
   ],
   "source": [
    "t[3][0]"
   ]
  },
  {
   "cell_type": "markdown",
   "id": "b2c03cce",
   "metadata": {},
   "source": [
    "# Dictionary"
   ]
  },
  {
   "cell_type": "markdown",
   "id": "350e8bb4",
   "metadata": {},
   "source": [
    "Dictionaries are used to store data values in key:value pairs.\n",
    "\n",
    "A dictionary is a collection which is ordered*, changeable and do not allow duplicates.\n",
    "\n",
    "As of Python version 3.7, dictionaries are ordered. In Python 3.6 and earlier, dictionaries are unordered.\n",
    "\n",
    "Dictionaries are written with curly brackets, and have keys and values:"
   ]
  },
  {
   "cell_type": "code",
   "execution_count": 45,
   "id": "0f4748a4",
   "metadata": {},
   "outputs": [],
   "source": [
    "dict1 = {1:\"rupali\",\"B\":\"utkarsh\",3:\"vaibhav\",4:\"vivek\",\"c\":\"nilansi\"}"
   ]
  },
  {
   "cell_type": "code",
   "execution_count": 46,
   "id": "d3b702b7",
   "metadata": {},
   "outputs": [
    {
     "data": {
      "text/plain": [
       "{1: 'rupali', 'B': 'utkarsh', 3: 'vaibhav', 4: 'vivek', 'c': 'nilansi'}"
      ]
     },
     "execution_count": 46,
     "metadata": {},
     "output_type": "execute_result"
    }
   ],
   "source": [
    "dict1"
   ]
  },
  {
   "cell_type": "code",
   "execution_count": 47,
   "id": "735a33b3",
   "metadata": {},
   "outputs": [
    {
     "data": {
      "text/plain": [
       "'utkarsh'"
      ]
     },
     "execution_count": 47,
     "metadata": {},
     "output_type": "execute_result"
    }
   ],
   "source": [
    "dict1['B']"
   ]
  },
  {
   "cell_type": "code",
   "execution_count": 48,
   "id": "da4d2765",
   "metadata": {},
   "outputs": [],
   "source": [
    "dict2 = {1:\"jalpa\",\"B\":\"utkarsh\",3:\"meruf\",4:\"vivek\",\"c\":\"nilansi\", 5:[3,4,5], 6:{\"j\",1,23},\n",
    "        7:{'j':\"hj\",'h':\"j\",1:\"y\",2:\"x\",3:[4,5]}}"
   ]
  },
  {
   "cell_type": "code",
   "execution_count": 49,
   "id": "aa12aba1",
   "metadata": {},
   "outputs": [
    {
     "data": {
      "text/plain": [
       "{1: 'jalpa',\n",
       " 'B': 'utkarsh',\n",
       " 3: 'meruf',\n",
       " 4: 'vivek',\n",
       " 'c': 'nilansi',\n",
       " 5: [3, 4, 5],\n",
       " 6: {1, 23, 'j'},\n",
       " 7: {'j': 'hj', 'h': 'j', 1: 'y', 2: 'x', 3: [4, 5]}}"
      ]
     },
     "execution_count": 49,
     "metadata": {},
     "output_type": "execute_result"
    }
   ],
   "source": [
    "dict2"
   ]
  },
  {
   "cell_type": "code",
   "execution_count": 50,
   "id": "e722a033",
   "metadata": {},
   "outputs": [
    {
     "data": {
      "text/plain": [
       "3"
      ]
     },
     "execution_count": 50,
     "metadata": {},
     "output_type": "execute_result"
    }
   ],
   "source": [
    "dict2[5][0]"
   ]
  },
  {
   "cell_type": "code",
   "execution_count": 51,
   "id": "a4315253",
   "metadata": {},
   "outputs": [
    {
     "data": {
      "text/plain": [
       "'hj'"
      ]
     },
     "execution_count": 51,
     "metadata": {},
     "output_type": "execute_result"
    }
   ],
   "source": [
    "dict2[7][\"j\"]"
   ]
  },
  {
   "cell_type": "code",
   "execution_count": 52,
   "id": "4b46bd9b",
   "metadata": {},
   "outputs": [
    {
     "data": {
      "text/plain": [
       "4"
      ]
     },
     "execution_count": 52,
     "metadata": {},
     "output_type": "execute_result"
    }
   ],
   "source": [
    "dict2[7][3][0]"
   ]
  },
  {
   "cell_type": "code",
   "execution_count": 53,
   "id": "8fbe7b55",
   "metadata": {},
   "outputs": [],
   "source": [
    "thisdict = {\n",
    "  \"brand\": \"Ford\",\n",
    "  \"model\": \"Mustang\",\n",
    "  \"year\": 1964\n",
    "}"
   ]
  },
  {
   "cell_type": "code",
   "execution_count": 54,
   "id": "9c8d24a6",
   "metadata": {},
   "outputs": [],
   "source": [
    "x = {\n",
    "  \"name\": \"John\",\n",
    "  \"age\": 30,\n",
    "  \"married\": True,\n",
    "  \"divorced\": False,\n",
    "  \"children\": (\"Ann\",\"Billy\"),\n",
    "  \"pets\": None,\n",
    "  \"cars\": [\n",
    "    {\"model\": \"BMW 230\", \"mpg\": 27.5},\n",
    "    {\"model\": \"Ford Edge\", \"mpg\": 24.1}\n",
    "  ]\n",
    "}"
   ]
  },
  {
   "cell_type": "code",
   "execution_count": 55,
   "id": "e4d71136",
   "metadata": {},
   "outputs": [
    {
     "data": {
      "text/plain": [
       "{'name': 'John',\n",
       " 'age': 30,\n",
       " 'married': True,\n",
       " 'divorced': False,\n",
       " 'children': ('Ann', 'Billy'),\n",
       " 'pets': None,\n",
       " 'cars': [{'model': 'BMW 230', 'mpg': 27.5},\n",
       "  {'model': 'Ford Edge', 'mpg': 24.1}]}"
      ]
     },
     "execution_count": 55,
     "metadata": {},
     "output_type": "execute_result"
    }
   ],
   "source": [
    "x"
   ]
  },
  {
   "cell_type": "code",
   "execution_count": 56,
   "id": "c1a93737",
   "metadata": {},
   "outputs": [
    {
     "data": {
      "text/plain": [
       "[{'model': 'BMW 230', 'mpg': 27.5}, {'model': 'Ford Edge', 'mpg': 24.1}]"
      ]
     },
     "execution_count": 56,
     "metadata": {},
     "output_type": "execute_result"
    }
   ],
   "source": [
    "x[\"cars\"]"
   ]
  },
  {
   "cell_type": "code",
   "execution_count": 57,
   "id": "ffd44998",
   "metadata": {},
   "outputs": [
    {
     "data": {
      "text/plain": [
       "{'model': 'BMW 230', 'mpg': 27.5}"
      ]
     },
     "execution_count": 57,
     "metadata": {},
     "output_type": "execute_result"
    }
   ],
   "source": [
    "x[\"cars\"][0]"
   ]
  },
  {
   "cell_type": "code",
   "execution_count": 58,
   "id": "8a26e59c",
   "metadata": {},
   "outputs": [
    {
     "data": {
      "text/plain": [
       "24.1"
      ]
     },
     "execution_count": 58,
     "metadata": {},
     "output_type": "execute_result"
    }
   ],
   "source": [
    "x[\"cars\"][1][\"mpg\"]"
   ]
  },
  {
   "cell_type": "code",
   "execution_count": null,
   "id": "1bd3b7b0",
   "metadata": {},
   "outputs": [],
   "source": []
  }
 ],
 "metadata": {
  "kernelspec": {
   "display_name": "Python 3 (ipykernel)",
   "language": "python",
   "name": "python3"
  },
  "language_info": {
   "codemirror_mode": {
    "name": "ipython",
    "version": 3
   },
   "file_extension": ".py",
   "mimetype": "text/x-python",
   "name": "python",
   "nbconvert_exporter": "python",
   "pygments_lexer": "ipython3",
   "version": "3.11.7"
  }
 },
 "nbformat": 4,
 "nbformat_minor": 5
}
