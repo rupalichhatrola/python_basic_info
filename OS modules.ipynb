{
 "cells": [
  {
   "cell_type": "code",
   "execution_count": 2,
   "id": "5b0f288d-f823-48dc-9877-82c2ccc931cc",
   "metadata": {},
   "outputs": [],
   "source": [
    "import os"
   ]
  },
  {
   "cell_type": "code",
   "execution_count": 3,
   "id": "959b5d18-062c-4814-920b-ab2c5cba649a",
   "metadata": {},
   "outputs": [
    {
     "name": "stdout",
     "output_type": "stream",
     "text": [
      "['DirEntry', 'EX_OK', 'F_OK', 'GenericAlias', 'Mapping', 'MutableMapping', 'O_APPEND', 'O_BINARY', 'O_CREAT', 'O_EXCL', 'O_NOINHERIT', 'O_RANDOM', 'O_RDONLY', 'O_RDWR', 'O_SEQUENTIAL', 'O_SHORT_LIVED', 'O_TEMPORARY', 'O_TEXT', 'O_TRUNC', 'O_WRONLY', 'P_DETACH', 'P_NOWAIT', 'P_NOWAITO', 'P_OVERLAY', 'P_WAIT', 'PathLike', 'R_OK', 'SEEK_CUR', 'SEEK_END', 'SEEK_SET', 'TMP_MAX', 'W_OK', 'X_OK', '_AddedDllDirectory', '_Environ', '__all__', '__builtins__', '__doc__', '__file__', '__loader__', '__name__', '__package__', '__spec__', '_check_methods', '_execvpe', '_exists', '_exit', '_fspath', '_get_exports_list', '_walk', '_wrap_close', 'abc', 'abort', 'access', 'add_dll_directory', 'altsep', 'chdir', 'chmod', 'close', 'closerange', 'cpu_count', 'curdir', 'defpath', 'device_encoding', 'devnull', 'dup', 'dup2', 'environ', 'error', 'execl', 'execle', 'execlp', 'execlpe', 'execv', 'execve', 'execvp', 'execvpe', 'extsep', 'fdopen', 'fsdecode', 'fsencode', 'fspath', 'fstat', 'fsync', 'ftruncate', 'get_exec_path', 'get_handle_inheritable', 'get_inheritable', 'get_terminal_size', 'getcwd', 'getcwdb', 'getenv', 'getlogin', 'getpid', 'getppid', 'isatty', 'kill', 'linesep', 'link', 'listdir', 'lseek', 'lstat', 'makedirs', 'mkdir', 'name', 'open', 'pardir', 'path', 'pathsep', 'pipe', 'popen', 'putenv', 'read', 'readlink', 'remove', 'removedirs', 'rename', 'renames', 'replace', 'rmdir', 'scandir', 'sep', 'set_handle_inheritable', 'set_inheritable', 'spawnl', 'spawnle', 'spawnv', 'spawnve', 'st', 'startfile', 'stat', 'stat_result', 'statvfs_result', 'strerror', 'supports_bytes_environ', 'supports_dir_fd', 'supports_effective_ids', 'supports_fd', 'supports_follow_symlinks', 'symlink', 'sys', 'system', 'terminal_size', 'times', 'times_result', 'truncate', 'umask', 'uname_result', 'unlink', 'unsetenv', 'urandom', 'utime', 'waitpid', 'waitstatus_to_exitcode', 'walk', 'write']\n"
     ]
    }
   ],
   "source": [
    "print(dir(os))"
   ]
  },
  {
   "cell_type": "code",
   "execution_count": 4,
   "id": "74db5439-6b52-435e-ae02-a07585913fd5",
   "metadata": {},
   "outputs": [
    {
     "name": "stdout",
     "output_type": "stream",
     "text": [
      "C:\\Users\\faculty pc\\rupali\n"
     ]
    }
   ],
   "source": [
    "print(os.getcwd())"
   ]
  },
  {
   "cell_type": "code",
   "execution_count": 5,
   "id": "9b876243-1017-4929-9518-0392915a7c42",
   "metadata": {},
   "outputs": [
    {
     "data": {
      "text/plain": [
       "'C:\\\\Users\\\\faculty pc\\\\rupali'"
      ]
     },
     "execution_count": 5,
     "metadata": {},
     "output_type": "execute_result"
    }
   ],
   "source": [
    "pwd()"
   ]
  },
  {
   "cell_type": "code",
   "execution_count": 6,
   "id": "95aaa51b-84d8-4fa5-95f5-00a859052236",
   "metadata": {},
   "outputs": [],
   "source": [
    "os.chdir(\"C:\\\\Users\\\\faculty pc\\\\rupali\")"
   ]
  },
  {
   "cell_type": "code",
   "execution_count": 7,
   "id": "13698452-8c79-4d74-b4f8-7c87d9bc9888",
   "metadata": {},
   "outputs": [
    {
     "name": "stdout",
     "output_type": "stream",
     "text": [
      "C:\\Users\\faculty pc\\rupali\n"
     ]
    }
   ],
   "source": [
    "print(os.getcwd())"
   ]
  },
  {
   "cell_type": "code",
   "execution_count": 8,
   "id": "f9b13ed6-9ffb-42ee-825c-b7208f510598",
   "metadata": {},
   "outputs": [
    {
     "data": {
      "text/plain": [
       "['.ipynb_checkpoints',\n",
       " 'basic,if-else statement.ipynb',\n",
       " 'date_time_delta_module.ipynb',\n",
       " 'for loop_while loop.ipynb',\n",
       " 'Garbage collection.ipynb',\n",
       " 'lambda function.ipynb',\n",
       " 'list,tuple,dictionary,sets.ipynb',\n",
       " 'python basic info.ipynb',\n",
       " 'regular expressions.ipynb',\n",
       " 'THIS',\n",
       " 'Untitled.ipynb',\n",
       " 'zip_file Unzip_file.ipynb']"
      ]
     },
     "execution_count": 8,
     "metadata": {},
     "output_type": "execute_result"
    }
   ],
   "source": [
    "os.listdir(\"C:\\\\Users\\\\faculty pc\\\\rupali\")"
   ]
  },
  {
   "cell_type": "code",
   "execution_count": 12,
   "id": "5f40848b-0e1b-4ccd-a100-5d46cac0ad07",
   "metadata": {},
   "outputs": [],
   "source": [
    "os.mkdir(\"test1\")  ## make folder"
   ]
  },
  {
   "cell_type": "code",
   "execution_count": 18,
   "id": "9d08cfae-816f-4a16-b3f7-0fcb4c27c17b",
   "metadata": {},
   "outputs": [
    {
     "ename": "FileNotFoundError",
     "evalue": "[Errno 2] No such file or directory: 'test.txt'",
     "output_type": "error",
     "traceback": [
      "\u001b[1;31m---------------------------------------------------------------------------\u001b[0m",
      "\u001b[1;31mFileNotFoundError\u001b[0m                         Traceback (most recent call last)",
      "Cell \u001b[1;32mIn[18], line 1\u001b[0m\n\u001b[1;32m----> 1\u001b[0m f \u001b[38;5;241m=\u001b[39m \u001b[38;5;28mopen\u001b[39m(\u001b[38;5;124m\"\u001b[39m\u001b[38;5;124mtest.txt\u001b[39m\u001b[38;5;124m\"\u001b[39m)\n",
      "File \u001b[1;32m~\\anaconda3\\Lib\\site-packages\\IPython\\core\\interactiveshell.py:310\u001b[0m, in \u001b[0;36m_modified_open\u001b[1;34m(file, *args, **kwargs)\u001b[0m\n\u001b[0;32m    303\u001b[0m \u001b[38;5;28;01mif\u001b[39;00m file \u001b[38;5;129;01min\u001b[39;00m {\u001b[38;5;241m0\u001b[39m, \u001b[38;5;241m1\u001b[39m, \u001b[38;5;241m2\u001b[39m}:\n\u001b[0;32m    304\u001b[0m     \u001b[38;5;28;01mraise\u001b[39;00m \u001b[38;5;167;01mValueError\u001b[39;00m(\n\u001b[0;32m    305\u001b[0m         \u001b[38;5;124mf\u001b[39m\u001b[38;5;124m\"\u001b[39m\u001b[38;5;124mIPython won\u001b[39m\u001b[38;5;124m'\u001b[39m\u001b[38;5;124mt let you open fd=\u001b[39m\u001b[38;5;132;01m{\u001b[39;00mfile\u001b[38;5;132;01m}\u001b[39;00m\u001b[38;5;124m by default \u001b[39m\u001b[38;5;124m\"\u001b[39m\n\u001b[0;32m    306\u001b[0m         \u001b[38;5;124m\"\u001b[39m\u001b[38;5;124mas it is likely to crash IPython. If you know what you are doing, \u001b[39m\u001b[38;5;124m\"\u001b[39m\n\u001b[0;32m    307\u001b[0m         \u001b[38;5;124m\"\u001b[39m\u001b[38;5;124myou can use builtins\u001b[39m\u001b[38;5;124m'\u001b[39m\u001b[38;5;124m open.\u001b[39m\u001b[38;5;124m\"\u001b[39m\n\u001b[0;32m    308\u001b[0m     )\n\u001b[1;32m--> 310\u001b[0m \u001b[38;5;28;01mreturn\u001b[39;00m io_open(file, \u001b[38;5;241m*\u001b[39margs, \u001b[38;5;241m*\u001b[39m\u001b[38;5;241m*\u001b[39mkwargs)\n",
      "\u001b[1;31mFileNotFoundError\u001b[0m: [Errno 2] No such file or directory: 'test.txt'"
     ]
    }
   ],
   "source": [
    "f = open(\"test.txt\")"
   ]
  },
  {
   "cell_type": "code",
   "execution_count": 19,
   "id": "8963c99b-be9a-4e43-95b7-6e46b04300ca",
   "metadata": {},
   "outputs": [
    {
     "name": "stdout",
     "output_type": "stream",
     "text": [
      "C:\\Users\\faculty pc\\anaconda3;C:\\Users\\faculty pc\\anaconda3\\Library\\mingw-w64\\bin;C:\\Users\\faculty pc\\anaconda3\\Library\\usr\\bin;C:\\Users\\faculty pc\\anaconda3\\Library\\bin;C:\\Users\\faculty pc\\anaconda3\\Scripts;C:\\Program Files\\NVIDIA\\CUDNN\\v9.0\\bin;C:\\Program Files\\NVIDIA GPU Computing Toolkit\\CUDA\\v12.4\\bin;C:\\Program Files\\NVIDIA GPU Computing Toolkit\\CUDA\\v12.4\\libnvvp;C:\\Windows\\system32;C:\\Windows;C:\\Windows\\System32\\Wbem;C:\\Windows\\System32\\WindowsPowerShell\\v1.0\\;C:\\Windows\\System32\\OpenSSH\\;C:\\Program Files\\Git\\cmd;C:\\Program Files\\AMD;C:\\Program Files\\NVIDIA Corporation\\Nsight Compute 2024.1.1\\;C:\\Program Files (x86)\\NVIDIA Corporation\\PhysX\\Common;C:\\Program Files\\MySQL\\MySQL Shell 8.0\\bin\\;C:\\Users\\faculty pc\\AppData\\Local\\Microsoft\\WindowsApps;C:\\Users\\faculty pc\\AppData\\Local\\Programs\\Microsoft VS Code\\bin;\n"
     ]
    }
   ],
   "source": [
    "print(os.environ.get('Path'))"
   ]
  },
  {
   "cell_type": "code",
   "execution_count": 1,
   "id": "be656846-fcaf-41ee-9035-1cba2ce521b5",
   "metadata": {},
   "outputs": [
    {
     "name": "stdin",
     "output_type": "stream",
     "text": [
      "Do you wish to shutdown your computer ? (yes / no):  no\n"
     ]
    }
   ],
   "source": [
    "import os\n",
    "  \n",
    "shutdown = input(\"Do you wish to shutdown your computer ? (yes / no): \")\n",
    "  \n",
    "if shutdown == 'no':\n",
    "    exit()\n",
    "else:\n",
    "    os.system(\"shutdown /s /t 1\")"
   ]
  },
  {
   "cell_type": "code",
   "execution_count": null,
   "id": "b6e10645-bbe1-40aa-b469-c82bd034a971",
   "metadata": {},
   "outputs": [],
   "source": [
    "import os\n",
    "os.system(\"shutdown /s\")"
   ]
  },
  {
   "cell_type": "code",
   "execution_count": 1,
   "id": "eea97509-a63b-4efe-b231-6320dcaabbe4",
   "metadata": {},
   "outputs": [
    {
     "data": {
      "text/plain": [
       "'C:\\\\Users\\\\faculty pc\\\\rupali'"
      ]
     },
     "execution_count": 1,
     "metadata": {},
     "output_type": "execute_result"
    }
   ],
   "source": [
    "pwd()"
   ]
  },
  {
   "cell_type": "code",
   "execution_count": null,
   "id": "461bce61-67e8-47ff-9de9-eec42cc6b4d5",
   "metadata": {},
   "outputs": [],
   "source": [
    "# importing os module \n",
    "import os\n",
    "  \n",
    "  \n",
    "# Source file path\n",
    "source = 'C:\\\\Users\\\\faculty pc\\\\rupali\\\\test4.txt'\n",
    "  \n",
    "# destination file path\n",
    "dest = 'C:\\\\Users\\\\faculty pc\\\\rupali\\\\newfile.txt'\n",
    "  \n",
    "  \n",
    "# Now rename the source path\n",
    "\n",
    "os.rename(source, dest)\n",
    "print(\"Source path renamed to destination path successfully.\")"
   ]
  },
  {
   "cell_type": "code",
   "execution_count": 6,
   "id": "7bf47287-cbfc-45ef-90cd-cc05be827f5b",
   "metadata": {},
   "outputs": [
    {
     "name": "stdout",
     "output_type": "stream",
     "text": [
      " Volume in drive C has no label.\n",
      " Volume Serial Number is 9EFD-51B1\n",
      "\n",
      " Directory of C:\\Users\\faculty pc\\rupali\n",
      "\n",
      "05/24/2024  09:57 AM    <DIR>          .\n",
      "05/24/2024  09:52 AM    <DIR>          ..\n",
      "05/24/2024  09:57 AM    <DIR>          .ipynb_checkpoints\n",
      "05/16/2024  10:16 AM            27,256 basic,if-else statement.ipynb\n",
      "05/17/2024  09:26 AM            15,146 date_time_delta_module.ipynb\n",
      "05/24/2024  09:51 AM             6,713 File Handling.ipynb\n",
      "05/17/2024  05:18 PM            24,809 for loop_while loop.ipynb\n",
      "05/17/2024  09:51 AM             3,057 Garbage collection.ipynb\n",
      "05/24/2024  09:22 AM             6,074 lambda function.ipynb\n",
      "05/17/2024  04:59 PM            22,584 list,tuple,dictionary,sets.ipynb\n",
      "05/24/2024  09:56 AM            13,676 OS modules.ipynb\n",
      "05/16/2024  10:18 AM             9,386 python basic info.ipynb\n",
      "05/24/2024  09:30 AM            13,577 regular expressions.ipynb\n",
      "05/24/2024  09:43 AM    <DIR>          test1\n",
      "05/24/2024  09:34 AM    <DIR>          THIS\n",
      "05/17/2024  05:18 PM             2,480 zip_file Unzip_file.ipynb\n",
      "              11 File(s)        144,758 bytes\n",
      "               5 Dir(s)  41,935,384,576 bytes free\n"
     ]
    }
   ],
   "source": [
    "ls"
   ]
  },
  {
   "cell_type": "code",
   "execution_count": 20,
   "id": "0062f4b1-d716-4621-aa39-aab79656b024",
   "metadata": {},
   "outputs": [],
   "source": [
    "import os\n",
    "os.mkdir(\"D:\\Tutorialspoint\") ## make directory"
   ]
  },
  {
   "cell_type": "code",
   "execution_count": 21,
   "id": "fa4d7f2a-08de-4104-b8a2-9e070bf7495a",
   "metadata": {},
   "outputs": [],
   "source": [
    "import os  \n",
    "os.rmdir(\"D:\\Tutorialspoint\")  ## delete directory"
   ]
  },
  {
   "cell_type": "code",
   "execution_count": 22,
   "id": "c61f3413-3acc-4135-829e-66296a69591e",
   "metadata": {},
   "outputs": [],
   "source": [
    "import os\n",
    "os.mkdir(\"D:\\Tutorialspoint\")\n",
    "os.rename(\"D:\\Tutorialspoint\",\"D:\\Tutorialspoint2\")"
   ]
  },
  {
   "cell_type": "code",
   "execution_count": 11,
   "id": "dfbeda43-7f46-4bd7-97fd-356ad534947a",
   "metadata": {},
   "outputs": [],
   "source": [
    "file = os.popen(\"Hello.txt\", 'w')"
   ]
  },
  {
   "cell_type": "code",
   "execution_count": 12,
   "id": "2e42d7d5-3d42-4d87-8170-d3c6dce8b198",
   "metadata": {},
   "outputs": [
    {
     "data": {
      "text/plain": [
       "45"
      ]
     },
     "execution_count": 12,
     "metadata": {},
     "output_type": "execute_result"
    }
   ],
   "source": [
    "file = os.popen(\"Hello.txt\", 'w')\n",
    "file.write(\"Hello there! This is a tutorialspoint article\")"
   ]
  },
  {
   "cell_type": "code",
   "execution_count": null,
   "id": "ec33640e-02ec-46f1-b2b6-7087911dd437",
   "metadata": {},
   "outputs": [],
   "source": []
  }
 ],
 "metadata": {
  "kernelspec": {
   "display_name": "Python 3 (ipykernel)",
   "language": "python",
   "name": "python3"
  },
  "language_info": {
   "codemirror_mode": {
    "name": "ipython",
    "version": 3
   },
   "file_extension": ".py",
   "mimetype": "text/x-python",
   "name": "python",
   "nbconvert_exporter": "python",
   "pygments_lexer": "ipython3",
   "version": "3.11.7"
  }
 },
 "nbformat": 4,
 "nbformat_minor": 5
}
