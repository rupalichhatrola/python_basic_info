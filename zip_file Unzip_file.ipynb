{
 "cells": [
  {
   "cell_type": "code",
   "execution_count": 2,
   "id": "7b1bc02e-98be-4e9d-af24-6bcd78f794cd",
   "metadata": {},
   "outputs": [],
   "source": [
    "import zipfile\n",
    "import os"
   ]
  },
  {
   "cell_type": "code",
   "execution_count": 3,
   "id": "6234c6dc-2751-40d7-9e08-57a9d8849f70",
   "metadata": {},
   "outputs": [],
   "source": [
    "#Create Zip File"
   ]
  },
  {
   "cell_type": "code",
   "execution_count": 6,
   "id": "a9dd538a-f734-47ce-a361-9469b59d65a3",
   "metadata": {},
   "outputs": [],
   "source": [
    "os.chdir('D:\\RUPALI')\n",
    "my_zip = zipfile.ZipFile('files1.zip','w')\n",
    "my_zip.write('python basic MCQ.pdf')\n",
    "my_zip.write('loops.pdf')\n",
    "my_zip.close()"
   ]
  },
  {
   "cell_type": "code",
   "execution_count": 4,
   "id": "a0396053-65fb-45d1-81f0-bef2c76bca56",
   "metadata": {},
   "outputs": [],
   "source": [
    "#Create Unzip File"
   ]
  },
  {
   "cell_type": "code",
   "execution_count": 7,
   "id": "89d7c5a3-d125-4f21-98f4-131ae4cfa8cb",
   "metadata": {},
   "outputs": [
    {
     "name": "stdout",
     "output_type": "stream",
     "text": [
      "File Name                                             Modified             Size\n",
      "python basic MCQ.pdf                           2024-05-08 09:20:14       565796\n",
      "loops.pdf                                      2024-05-07 11:03:26      4226526\n",
      "processing ......\n",
      "Process completed\n"
     ]
    }
   ],
   "source": [
    "from zipfile import ZipFile\n",
    "#file = r\"C:\\Users\\vaibh\\Downloads\\Pro-Kabaddi-Data-Analysis-master.zip\"\n",
    "file = r\"D:\\RUPALI\\files1.zip\"\n",
    "with ZipFile(file,'r') as zip:\n",
    "    zip.printdir()\n",
    "    print(\"processing ......\")\n",
    "    zip.extractall()\n",
    "    print(\"Process completed\")"
   ]
  },
  {
   "cell_type": "code",
   "execution_count": null,
   "id": "292efb30-3a82-46e7-bef0-14bb87fd72e2",
   "metadata": {},
   "outputs": [],
   "source": []
  }
 ],
 "metadata": {
  "kernelspec": {
   "display_name": "Python 3 (ipykernel)",
   "language": "python",
   "name": "python3"
  },
  "language_info": {
   "codemirror_mode": {
    "name": "ipython",
    "version": 3
   },
   "file_extension": ".py",
   "mimetype": "text/x-python",
   "name": "python",
   "nbconvert_exporter": "python",
   "pygments_lexer": "ipython3",
   "version": "3.11.7"
  }
 },
 "nbformat": 4,
 "nbformat_minor": 5
}
